{
 "cells": [
  {
   "cell_type": "code",
   "execution_count": null,
   "metadata": {},
   "outputs": [],
   "source": [
    "while True:\n",
    "    code_lines = []\n",
    "    current_indentation = ''\n",
    "    while True:\n",
    "        next_line = input('> ')\n",
    "        if next_line.strip():\n",
    "            indentation = len(next_line) - len(next_line.lstrip())\n",
    "            if not current_indentation and indentation:\n",
    "                current_indentation = ' ' * indentation\n",
    "            if current_indentation and next_line.startswith(current_indentation):\n",
    "                next_line = next_line[len(current_indentation):]\n",
    "        if code_lines and code_lines[-1][-1] == ':':\n",
    "            code_lines[-1] += ' ' + next_line\n",
    "        elif next_line == '':\n",
    "            break\n",
    "        else:\n",
    "            code_lines.append(next_line)\n",
    "    try:\n",
    "        code_block = '\\n'.join(code_lines)\n",
    "        exec(code_block, globals())\n",
    "    except Exception as error:\n",
    "        print('Error occurred.')\n",
    "        print(error)"
   ]
  },
  {
   "cell_type": "code",
   "execution_count": null,
   "metadata": {},
   "outputs": [],
   "source": []
  },
  {
   "cell_type": "code",
   "execution_count": null,
   "metadata": {},
   "outputs": [],
   "source": []
  },
  {
   "cell_type": "code",
   "execution_count": null,
   "metadata": {},
   "outputs": [],
   "source": []
  },
  {
   "cell_type": "code",
   "execution_count": null,
   "metadata": {},
   "outputs": [],
   "source": []
  },
  {
   "cell_type": "code",
   "execution_count": null,
   "metadata": {},
   "outputs": [],
   "source": []
  },
  {
   "cell_type": "code",
   "execution_count": null,
   "metadata": {},
   "outputs": [],
   "source": [
    "\n",
    "6"
   ]
  }
 ],
 "metadata": {
  "kernelspec": {
   "display_name": "Python 3 (ipykernel)",
   "language": "python",
   "name": "python3"
  },
  "language_info": {
   "codemirror_mode": {
    "name": "ipython",
    "version": 3
   },
   "file_extension": ".py",
   "mimetype": "text/x-python",
   "name": "python",
   "nbconvert_exporter": "python",
   "pygments_lexer": "ipython3",
   "version": "3.10.12"
  }
 },
 "nbformat": 4,
 "nbformat_minor": 2
}
