{
 "cells": [
  {
   "cell_type": "markdown",
   "metadata": {},
   "source": [
    "---\n",
    "comments: true\n",
    "layout: post\n",
    "title: MCQ 2021 Corrections + Reflection\n",
    "description: TC for in class practice\n",
    "type: tangibles\n",
    "courses: { csp: {week: 26} }\n",
    "---\n",
    "Test Corrections:\n",
    "Score: 66/70\n",
    "+"
   ]
  },
  {
   "cell_type": "markdown",
   "metadata": {},
   "source": [
    "Question 19:\n",
    "Correct Answer: D\n",
    "Selected Answer: C\n",
    "Which of the following best explains how devices and information can be susceptible to unauthorized access if weak passwords are used?\n",
    "\n",
    "A - Unauthorized individuals can deny service to a computing system by overwhelming the system with login attempts.\n",
    "This statement is incorrect. While individuals can lock the user out of the system, if the user has a short password, they can still be forced out of the system if it is overwhelmed.\n",
    "\n",
    "B - Unauthorized individuals can exploit vulnerabilities in compression algorithms to determine a user’s password from their decompressed data.\n",
    "This statement is correct, but has nothing to do with weak passwords. Keyloggers and decryption can be done regardless of the lengthf of the password.\n",
    "\n",
    "C - Unauthorized individuals can exploit vulnerabilities in encryption algorithms to determine a user’s password from their encryption key.\n",
    "This statement is again correct, as insecure algorithms such as MD5 can be cracked easily with password crackers or even online. This can be done quicker with a weaker password, but if the encryption key is known the weakness of the password would be irrelevant.\n",
    "\n",
    "D - Unauthorized individuals can use data mining and other techniques to guess a user’s password.\n",
    "Guessing a users password, or brute forcing, can take awhile but is effective, as eventually the password will be guessed. However, the password cannot be guessed in a reasonable time if a unique, long, secure password is used. A short or common password makes it extremely easy to guess and as a result is the correct answer to this question."
   ]
  },
  {
   "cell_type": "markdown",
   "metadata": {},
   "source": [
    "Question 46\n",
    "A large spreadsheet contains the following information about local restaurants. A sample portion of the spreadsheet is shown below.\n",
    "1\tJoey Calzone’s Pizzeria\tlo\t182\t3.5\tfalse\n",
    "2\t78th Street Bistro\t    med\t41\t4.5\tfalse\n",
    "3\tSeaside Taqueria\t    med\t214\t4.5\ttrue\n",
    "4\tDelicious Sub Shop II\tlo\t202\t4.0\tfalse\n",
    "5\tRustic Farm Tavern\t    hi\t116\t4.5\ttrue\n",
    "6\tABC Downtown Diner\t    med\t0\t-1.0\ttrue\n",
    "In column B, the price range represents the typical cost of a meal, where \"lo\" indicates under $10, \"med\" indicates $11 to $30, and \"hi\" indicates over $30.\n",
    "In column D, the average customer rating is set to -1.0 for restaurants that have no customer ratings.\n",
    "\n",
    "The Question displayed three procedures and asked whether the order that the procedures were ran would affect the outcome of the procedure. CollegeBoard no longer lets me view the procedures, but what likely happened is I didn't read through the first once carefully enough and think through it, as I believed it would not have given proper output even though it did."
   ]
  },
  {
   "cell_type": "markdown",
   "metadata": {},
   "source": [
    "Question 49\n",
    "Which of the following best explains the ability to solve problems algorithmically?\n",
    "Correct Answer: D\n",
    "Selected Answer: C\n",
    "\n",
    "Responses\n",
    "A - Any problem can be solved algorithmically, though some algorithmic solutions may require humans to validate the results.\n",
    "Responses A-C are all incorrect in that some problems cannot be solved Algorithmically, however, they are correct that solution may require humans to validate the result, may have to be executed in parallel, or require a large amount of data storeage.\n",
    "\n",
    "B - Any problem can be solved algorithmically, though some algorithmic solutions must be executed on multiple devices in parallel.\n",
    "Responses A-C are all incorrect in that some problems cannot be solved Algorithmically, however, they are correct that solution may require humans to validate the result, may have to be executed in parallel, or require a large amount of data storeage.\n",
    "\n",
    "C - Any problem can be solved algorithmically, though some algorithmic solutions require a very large amount of data storage to execute.\n",
    "Responses A-C are all incorrect in that some problems cannot be solved Algorithmically, however, they are correct that solution may require humans to validate the result, may have to be executed in parallel, or require a large amount of data storeage.\n",
    "\n",
    "D - There exist some problems that cannot be solved algorithmically using any computer.\n",
    "This statement is correct, and this question is a result of me forgetting certain details from earlier."
   ]
  },
  {
   "cell_type": "markdown",
   "metadata": {},
   "source": [
    "A code segment is intended to transform the list utensils so that the last element of the list is moved to the beginning of the list.\n",
    "\n",
    "For example, if utensils initially contains  [\"fork\", \"spoon\", \"tongs\", \"spatula\", \"whisk\"], it should contain [\"whisk\", \"fork\", \"spoon\", \"tongs\", \"spatula\"] after executing the code segment.\n",
    "\n",
    "Which of the following code segments transforms the list as intended?\n",
    "\n",
    "Responses\n",
    "A\n",
    "len = LENGTH(utensils)\n",
    "temp = utensils[len]\n",
    "REMOVE(utensils, len)\n",
    "APPEND(utensils, temp)\n",
    "This answer is incorrect, as it stores the last element of the list in a variable called temp, but then appends it to the end of the list, resulting in the same string as the beginning.\n",
    "\n",
    "B\n",
    "len = LENGTH(utensils)\n",
    "REMOVE(utensils, len)\n",
    "temp = utensils[len]\n",
    "APPEND(utensils, temp)\n",
    "This answer is incorrect, as it stores the last element of the list in a variable called temp, but then appends it to the end of the list, resulting in the same string as the beginning. Furthermore, it also removes the element of the list before storing it in a variable, meaning the last element of the list is never stored.\n",
    "\n",
    "C\n",
    "len = LENGTH(utensils)\n",
    "temp = utensils[len]\n",
    "REMOVE(utensils, len)\n",
    "INSERT(utensils, 1, temp)\n",
    "This answer is correct as it correctly stores the last element of the list inside a variable, then removes the last element and inserts it into the front of the list.\n",
    "\n",
    "D\n",
    "len = LENGTH(utensils)\n",
    "REMOVE(utensils, len)\n",
    "temp = utensils[len]\n",
    "INSERT(utensils, 1, temp)\n",
    "This answer is incorrect, as it incorrectly removes the last element of the list, then attempts to store it inside a list. "
   ]
  },
  {
   "cell_type": "code",
   "execution_count": 9,
   "metadata": {},
   "outputs": [
    {
     "name": "stdout",
     "output_type": "stream",
     "text": [
      "['fork', 'spoon', 'tongs', 'spatula', 'whisk']\n",
      "['whisk', 'fork', 'spoon', 'tongs', 'spatula']\n"
     ]
    }
   ],
   "source": [
    "def a(list):\n",
    "    length = len(list)\n",
    "    temp = list[length - 1]\n",
    "    list.pop(length - 1)\n",
    "    list = list + [temp]\n",
    "    return list\n",
    "\n",
    "def d(list):\n",
    "    length = len(list)\n",
    "    temp = list[length - 1]\n",
    "    list.pop(length - 1)\n",
    "    list = [temp] + list\n",
    "    return list\n",
    "\n",
    "print(a([\"fork\", \"spoon\", \"tongs\", \"spatula\", \"whisk\"]))\n",
    "print(d([\"fork\", \"spoon\", \"tongs\", \"spatula\", \"whisk\"]))"
   ]
  },
  {
   "cell_type": "markdown",
   "metadata": {},
   "source": [
    "Overall, I am happy with my preparation and score on this MCQ as it was sufficient and was also completed in a shorter period than given. However, it has also highlight several areas where I have forgotten things and where my long term memory has forgotten things. In addition, this has revealed issues with my time management. I spent too much time at the beginning, and this showed as I got most of my questions wrong towards the end, where I had less time and guessed some questions. In addition, this MCQ demonstrated that I should pay more attention to the answer choices and avoid selecting partially right answers. This is likely to be less of a problem given that in the future I will have more time, but still is a point to remember. In addition, some missed questions also show that I should review in detail some past lessons if I have time."
   ]
  }
 ],
 "metadata": {
  "kernelspec": {
   "display_name": "Python 3",
   "language": "python",
   "name": "python3"
  },
  "language_info": {
   "codemirror_mode": {
    "name": "ipython",
    "version": 3
   },
   "file_extension": ".py",
   "mimetype": "text/x-python",
   "name": "python",
   "nbconvert_exporter": "python",
   "pygments_lexer": "ipython3",
   "version": "3.10.12"
  }
 },
 "nbformat": 4,
 "nbformat_minor": 2
}
