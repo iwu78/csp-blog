{
 "cells": [
  {
   "cell_type": "markdown",
   "metadata": {},
   "source": [
    "---\n",
    "comments: true\n",
    "layout: post\n",
    "title: PythonIO Quiz\n",
    "description: A quiz made following the Python IO article in Week 1 of CSP, start python and using Jupyter Notebooks.\n",
    "type: hacks\n",
    "courses: {csp: {week: 1}}\n",
    "---"
   ]
  },
  {
   "cell_type": "markdown",
   "metadata": {},
   "source": [
    "## Python\n",
    "After reading through the Python IO article, I created this article to start testing, messing around, and using both python and Jupyter Notebooks. Below is the quiz provided and edits made based on hacks at the bottom of the article."
   ]
  },
  {
   "cell_type": "code",
   "execution_count": 6,
   "metadata": {},
   "outputs": [
    {
     "name": "stdout",
     "output_type": "stream",
     "text": [
      "Hello, iwu88 running /bin/python\n",
      "You will be asked 3 questions.\n",
      "Question: What command is used to include other functions that were previously developed?\n",
      "import is correct!\n",
      "Question: What command is used to evaluate correct or incorrect response in this example?\n",
      "else is incorrect!\n",
      "Question: Each 'if' command contains an '_________' to determine a true or false condition?\n",
      "expression is correct!\n",
      "iwu88 you scored 2/3, or 66.66%!\n"
     ]
    }
   ],
   "source": [
    "import getpass, sys\n",
    "import math\n",
    "\n",
    "def question_with_response(prompt):\n",
    "    print(\"Question: \" + prompt)\n",
    "    msg = input()\n",
    "    return msg\n",
    "\n",
    "questions = [\"What command is used to include other functions that were previously developed?\", \"What command is used to evaluate correct or incorrect response in this example?\", \"Each 'if' command contains an '_________' to determine a true or false condition?\"]\n",
    "num_q = len(questions)\n",
    "answers = [\"import\", \"if\", \"expression\"]\n",
    "correct = 0\n",
    "\n",
    "print('Hello, ' + getpass.getuser() + \" running \" + sys.executable)\n",
    "print(\"You will be asked \" + str(num_q) + \" questions.\")\n",
    "\n",
    "for question in questions:\n",
    "    rsp = question_with_response(question)\n",
    "    if rsp == answers[questions.index(question)]:\n",
    "        print(rsp + \" is correct!\")\n",
    "        correct += 1\n",
    "    else:\n",
    "        print(rsp + \" is incorrect!\")\n",
    "\n",
    "print(getpass.getuser() + \" you scored \" + str(correct) + \"/\" + str(num_q) + \", or \" + str(math.floor(correct / num_q * 10000) / 100) + \"%!\")"
   ]
  }
 ],
 "metadata": {
  "kernelspec": {
   "display_name": "Python 3",
   "language": "python",
   "name": "python3"
  },
  "language_info": {
   "codemirror_mode": {
    "name": "ipython",
    "version": 3
   },
   "file_extension": ".py",
   "mimetype": "text/x-python",
   "name": "python",
   "nbconvert_exporter": "python",
   "pygments_lexer": "ipython3",
   "version": "3.10.12"
  },
  "orig_nbformat": 4
 },
 "nbformat": 4,
 "nbformat_minor": 2
}
