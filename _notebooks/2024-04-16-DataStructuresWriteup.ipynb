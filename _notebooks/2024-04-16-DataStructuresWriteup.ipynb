{
 "cells": [
  {
   "cell_type": "markdown",
   "metadata": {},
   "source": [
    "---\n",
    "comments: true\n",
    "layout: post\n",
    "title: Data Structures Writeup\n",
    "description: .\n",
    "type: tangibles\n",
    "courses: { csp: {week: 26} }\n",
    "---"
   ]
  },
  {
   "cell_type": "code",
   "execution_count": null,
   "metadata": {},
   "outputs": [],
   "source": []
  },
  {
   "cell_type": "markdown",
   "metadata": {},
   "source": [
    "## Collections\n",
    "- Blog Python Model code and SQLite Database.\n",
    "    - Below code is code for Design database, initiates columns, creates function for creating, reading from, updating, and deleting designs from database."
   ]
  },
  {
   "cell_type": "code",
   "execution_count": null,
   "metadata": {},
   "outputs": [],
   "source": [
    "## Python Model\n",
    "class Design(db.Model):\n",
    "    __tablename__ = 'designs'\n",
    "\n",
    "    name = db.Column(db.String, unique=False, primary_key=True)\n",
    "    type = db.Column(db.Text, unique=False, nullable=False)\n",
    "    content = db.Column(db.String, unique=False)\n",
    "    # Define a relationship in Notes Schema to userID who originates the note, many-to-one (many notes to one user)\n",
    "    userID = db.Column(db.Integer, db.ForeignKey('users.id'))\n",
    "    likes = db.Column(db.Integer, unique=False, nullable=False)\n",
    "    dislikes = db.Column(db.Integer, unique=False, nullable=False)\n",
    "    description = db.Column(db.String, unique=False, nullable=False)\n",
    "    def __init__(self, id, type, content, name, likes=0, dislikes=0, description=\"\"):\n",
    "        self.userID = id\n",
    "        self.type = type\n",
    "        self.content = content\n",
    "        self.name = name\n",
    "        self.likes = likes\n",
    "        self.dislikes = dislikes\n",
    "        self.description = description\n",
    "\n",
    "    # Returns a string representation of the Notes object, similar to java toString()\n",
    "    # returns string\n",
    "    def __repr__(self):\n",
    "        return {\"Name\": self.name, \"Content\": self.content, \"Type\": self.type, \"Owner\": self.userID, \"Likes\": self.likes, \"Dislikes\": self.dislikes, \"Description\": self.description,}\n",
    "\n",
    "    # CRUD create, adds a new record to the Notes table\n",
    "    # returns the object added or None in case of an error\n",
    "    def create(self):\n",
    "        try:\n",
    "            # creates a Notes object from Notes(db.Model) class, passes initializers\n",
    "            db.session.add(self)  # add prepares to persist person object to Notes table\n",
    "            db.session.commit()  # SqlAlchemy \"unit of work pattern\" requires a manual commit\n",
    "            return self\n",
    "        except IntegrityError:\n",
    "            db.session.remove()\n",
    "            return None\n",
    "\n",
    "    # CRUD read, returns dictionary representation of Notes object\n",
    "    # returns dictionary\n",
    "    def read(self):\n",
    "        \n",
    "        return {\n",
    "            \"Name\": self.name,\n",
    "            \"Owner\": self.userID,\n",
    "            \"Content\": self.content,\n",
    "            \"Type\": self.type,\n",
    "            \"Likes\": self.likes,\n",
    "            \"Dislikes\": self.dislikes,\n",
    "            \"Description\": self.description,\n",
    "        }\n",
    "    \n",
    "    def update(self, name=\"\", content=\"\", type=\"\", likes=0, dislikes=0, description=''):\n",
    "        \"\"\"only updates values with length\"\"\"\n",
    "        if len(name) > 0:\n",
    "            self.name = name\n",
    "        if len(content) > 0:\n",
    "            self.content = content\n",
    "        if len(type) > 0:\n",
    "            self.type = type\n",
    "        if likes != 0:\n",
    "            self.likes += likes\n",
    "        if dislikes != 0:\n",
    "            self.dislikes += dislikes\n",
    "        if len(description) != 0:\n",
    "            self.description = description\n",
    "        db.session.commit()\n",
    "        return self\n",
    "    \n",
    "    def delete(self):\n",
    "        db.session.delete(self)\n",
    "        db.session.commit()\n",
    "        return None\n"
   ]
  },
  {
   "cell_type": "markdown",
   "metadata": {},
   "source": [
    "- From VSCode using SQLite3 Editor, show your unique collection/table in database, display rows and columns in the table of the SQLite database.\n",
    "    - ![Screenshot 1](../../../images/databases.png)\n",
    "    - Database has 5 columns with information regarding designs\n",
    "        - Design Name\n",
    "        - Design Content in HTML, this is displayed on frontend\n",
    "        - Design Description\n",
    "        - User who owns design, this is linked to the user database, and automatically filled\n",
    "        - Design likes and dislikes, stored as integers\n",
    "- From VSCode model, show your unique code that was created to initialize table and create test data.\n",
    "    - See Code Below\n",
    "    - Code initializes three users, two default ones as requested by teacher, and an admin account for personal use.\n",
    "    - Design databases starts off as empty, data entries are created upon use of website"
   ]
  },
  {
   "cell_type": "code",
   "execution_count": null,
   "metadata": {},
   "outputs": [],
   "source": [
    "# User Initialization Code\n",
    "# Builds working data for testing\n",
    "def initUsers():\n",
    "    with app.app_context():\n",
    "        \"\"\"Create database and tables\"\"\"\n",
    "        db.create_all()\n",
    "        \"\"\"Tester data for table\"\"\"\n",
    "        u1 = User(name='Thomas Edison', uid='toby', password='123toby', type=\"admin\")\n",
    "        u2 = User(name='Nicholas Tesla', uid='niko', password='123niko', type=\"standard\")\n",
    "        u3 = User(name='Admin_User', uid='admin', type=\"admin\")\n",
    "        users = [u1, u2, u3]\n",
    "\n",
    "        \"\"\"Builds sample user/note(s) data\"\"\"\n",
    "        for user in users:\n",
    "            try:\n",
    "                '''add a few 1 to 4 notes per user'''\n",
    "                '''add user/post data to table'''\n",
    "                user.create()\n",
    "            except IntegrityError:\n",
    "                '''fails with bad or duplicate data'''\n",
    "                db.session.remove()\n",
    "                print(f\"Records exist, duplicate email, or error: {user.uid}\")"
   ]
  },
  {
   "cell_type": "markdown",
   "metadata": {},
   "source": [
    "## Lists and Dictionaries\n",
    "Blog Python API code and use of List and Dictionaries.\n",
    "\n",
    "- In VSCode using Debugger, show a list as extracted from database as Python objects.\n",
    "    - GET request is sent to backend to search for all public designs. Backend fetches all public designs into a list in python debugger called design_return (red line). List contains all designs as python objects (red line). This is also an example of a dictionary stored as each element of the list is a dictionary of data from database.\n",
    "    ![Screenshot 2](../../../images/listdebug.png)\n",
    "- In VSCode use Debugger and list, show two distinct example examples of dictionaries, show Keys/Values using debugger.\n",
    "    - After design is fetched, it is stored in python as a dictionary. This is viewable from the debugger as shown below. The purple values on the left are the keys, the values are shown on the right.\n",
    "    ![Screenshot 3](../../../images/dictionary1.png)\n",
    "    - When a design is created, the frontend sends an object with data regarding the design, such as its name and description. The backend then stores this data as a dictionary with keys in purple on the left and values on the right."
   ]
  },
  {
   "cell_type": "markdown",
   "metadata": {},
   "source": [
    "## APIs and JSON\n",
    "Blog Python API code and use of Postman to request and respond with JSON.\n",
    "\n",
    "- In VSCode, show Python API code definition for request and response using GET, POST, UPDATE methods. Discuss algorithmic condition used to direct request to appropriate Python method based on request method.\n",
    "    - Within the code shown above, the API contains several CRUDs, such as a CRUD for modifying users and one for modifying Designs. \n",
    "    - A resource is then added to the API under the appropriate link.\n",
    "    - When a request is sent to the link, the appropriate function is called according to the type of request send."
   ]
  },
  {
   "cell_type": "code",
   "execution_count": null,
   "metadata": {},
   "outputs": [],
   "source": [
    "user_api = Blueprint('user_api', __name__,\n",
    "                   url_prefix='/api/users')\n",
    "\n",
    "# API docs https://flask-restful.readthedocs.io/en/latest/api.html\n",
    "api = Api(user_api)    \n",
    "\n",
    "class UserAPI:        \n",
    "    class _CRUD(Resource):  # User API operation for Create, Read.  THe Update, Delete methods need to be implemeented\n",
    "        # more code omitted\n",
    "    \n",
    "api.add_resource(_CRUD, '/')\n",
    "api.add_resource(_DesignCRUD, '/design')"
   ]
  },
  {
   "cell_type": "markdown",
   "metadata": {},
   "source": [
    "## Extra/Algorithm Analysis\n",
    "- In VSCode, show algorithmic conditions used to validate data on a POST condition.\n",
    "    - Algorithmic conditions ensure that inputted data is valid. The following two conditions are part of the user creation code. They ensure that the password is secure by ensuring that it is longer than a certain length, and ensure that a Name and password exists."
   ]
  },
  {
   "cell_type": "code",
   "execution_count": null,
   "metadata": {},
   "outputs": [],
   "source": [
    "            if name is None or len(name) < 2:\n",
    "                return {'message': f'Name is missing, or is less than 2 characters'}, 400\n",
    "            # validate uid\n",
    "            uid = body.get('uid')\n",
    "            if uid is None or len(uid) < 2:\n",
    "                return {'message': f'User ID is missing, or is less than 2 characters'}, 400\n",
    "            "
   ]
  },
  {
   "cell_type": "markdown",
   "metadata": {},
   "source": [
    "- In Postman, show URL request and Body requirements for GET, POST, and UPDATE methods.\n",
    "- In Postman, show the JSON response data for 200 success conditions on GET, POST, and UPDATE methods.\n",
    "![Screenshot 5](../../../images/post.png)\n",
    "![Screenshot 6](../../../images/get.png)\n",
    "![Screenshot 7](../../../images/put.png)\n",
    "- In Postman, show the JSON response for error for 400 when missing body on a POST request.\n",
    "![Screenshot 8](../../../images/posterror.png)\n",
    "In Postman, show the JSON response for error for 404 when providing an unknown user ID to a UPDATE request.\n",
    "- Updated user api code automatically retrieves user ID from JWT token by decoding it.\n",
    "- This means that no UserID needs to be provided, simply a name and password\n",
    "- This also ensures that users can only update their own user\n",
    "- See line below"
   ]
  },
  {
   "cell_type": "code",
   "execution_count": null,
   "metadata": {},
   "outputs": [],
   "source": [
    "cur_user = jwt.decode(token, current_app.config[\"SECRET_KEY\"], algorithms=[\"HS256\"])['_uid']"
   ]
  },
  {
   "cell_type": "markdown",
   "metadata": {},
   "source": [
    "## Frontend\n",
    "- Blog JavaScript API fetch code and formatting code to display JSON.\n",
    "\n",
    "- In Chrome inspect, show response of JSON objects from fetch of GET, POST, and UPDATE methods.\n",
    "    - After a search is done, a GET request is sent to the backend. The backend then fetches appropriate designs from the database as shown above. The data is then sent to the frontend as shown below.\n",
    "    ![Screenshot 9](../../../images/designs.png)\n",
    "- In the Chrome browser, show a demo (GET) of obtaining an Array of JSON objects that are formatted into the browsers screen.\n",
    "    - This array of designs is then formatted into a table\n",
    "    ![Screenshot 10](../../../images/designbrowser.png)\n",
    "- In JavaScript code, describe fetch and method that obtained the Array of JSON objects.\n",
    "    - The following fetch gets all public designs from the database by sending a GET request (default) to the search URL. \n",
    "    - It verifies the data that is returned from the backend, then begins displaying the data inside a table."
   ]
  },
  {
   "cell_type": "code",
   "execution_count": null,
   "metadata": {
    "vscode": {
     "languageId": "javascript"
    }
   },
   "outputs": [],
   "source": [
    "function getPublic() {\n",
    "    fetch('http://127.0.0.1:8086/api/users/search')\n",
    "      .then(response => {\n",
    "        if (!response.ok) {\n",
    "          throw new Error('Network response was not ok');\n",
    "        }\n",
    "        return response.json();\n",
    "      })\n",
    "      .then(data => {\n",
    "        console.log(data); // Handle the data returned from the server\n",
    "        displayDataInTable(data.Designs);\n",
    "      })\n",
    "      .catch(error => {\n",
    "        console.error('There was a problem with the fetch operation:', error);\n",
    "      });\n",
    "  }"
   ]
  },
  {
   "cell_type": "markdown",
   "metadata": {},
   "source": [
    "- In JavaScript code, show code that performs iteration and formatting of data into HTML.\n",
    "    - The following function gets the container of the table, then creates a new string with HTML to append\n",
    "    - It adds a header row to the table, then iterates through each element of the design data, checking if the content or name includes the search term. If so, it adds a new row to the database with the design's information."
   ]
  },
  {
   "cell_type": "code",
   "execution_count": null,
   "metadata": {
    "vscode": {
     "languageId": "javascript"
    }
   },
   "outputs": [],
   "source": [
    "function displayDataInTable(data) {\n",
    "  // get table containers\n",
    "    var tableContainer = document.getElementById('tableContainer');\n",
    "    var tableHTML = '<table id=\"table\">';\n",
    "    const searchTerm = getSearchTerm();\n",
    "    tableHTML += '<tr><th>Name</th><th>Content</th><th>Description</th><th>Likes</th><th>Dislikes</th><th>Type</th></tr>';\n",
    "    data.forEach(function (item) {\n",
    "      // Check if searchTerm is a substring of Name or Content\n",
    "      if (searchTerm && (item.Name.includes(searchTerm) || (item.Content && item.Content.includes(searchTerm)))) {\n",
    "        tableHTML += '<tr>';\n",
    "        tableHTML += '<td class=\"nr\">' + item.Name + '</td>';\n",
    "        tableHTML += '<td>' + (item.Content || '') + '</td>';\n",
    "        tableHTML += '<td>' + item.Description + '</td>';\n",
    "        // set value of table, create like button\n",
    "        // buttons gets value of textcontent in row through searching, runs function to like\n",
    "        tableHTML += '<td><button onclick=\"toggleLike(this, this.closest(`tr`).querySelector(`.nr`).textContent)\" data-item-id=\"' + item.id + '\">Like</button><span class=\"likesCount\">' + item.Likes + '</span></td>';\n",
    "        tableHTML += '<td><button onclick=\"toggleDislike(this, this.closest(`tr`).querySelector(`.nr`).textContent)\" data-item-id=\"' + item.id + '\">Dislike</button><span class=\"dislikesCount\">' + item.Dislikes + '</span></td>';\n",
    "        tableHTML += '<td>' + item.Type + '</td>';\n",
    "        tableHTML += '</tr>';\n",
    "      }\n",
    "    });\n",
    "    tableHTML += '</table>';\n",
    "    tableContainer.innerHTML = tableHTML;\n",
    "  }"
   ]
  },
  {
   "cell_type": "markdown",
   "metadata": {},
   "source": [
    "- In the Chrome browser, show a demo (POST or UPDATE) gathering and sending input and receiving a response that show update. Repeat this demo showing both success and failure.\n",
    "    - Success of PUT request:\n",
    "    ![Screenshot 11](../../../images/putsuccess.png)\n",
    "    - Failure of POST request:\n",
    "    ![Screenshot 12](../../../images/postfailure.png)\n",
    "- In JavaScript code, show and describe code that handles success. Describe how code shows success to the user in the Chrome Browser screen.\n",
    "    - The following code verifies that the user is logged in, the response is OK, and the design is entered\n",
    "    - It then displays a success alert to the user, and sets the display attribute of the popup to none, allowing the user to access the button editor.\n",
    "- In JavaScript code, show and describe code that handles failure. Describe how the code shows failure to the user in the Chrome Browser screen.\n",
    "    - If the user is not logged in, it opens up the login window and sends a alert telling the user to log in. \n",
    "    - If the user has not inputted a design name, the code does not fetch at all and alerts the user of this."
   ]
  },
  {
   "cell_type": "code",
   "execution_count": null,
   "metadata": {
    "vscode": {
     "languageId": "javascript"
    }
   },
   "outputs": [],
   "source": [
    "if (name1.trim() !== \"\") {\n",
    "    const authOptions = {\n",
    "      mode: 'cors', // no-cors, *cors, same-origin\n",
    "      credentials: 'include', // include, same-origin, omit\n",
    "      headers: {\n",
    "        'Content-Type': 'application/json',\n",
    "      },\n",
    "      method: 'POST', // Override the method property\n",
    "      cache: 'no-cache', // Set the cache property\n",
    "      body: JSON.stringify(body)\n",
    "    };\n",
    "    console.log(body)\n",
    "    fetch(url, authOptions)\n",
    "      .then(response => {\n",
    "        // handle error response from Web API\n",
    "        if (!response.ok) {\n",
    "          alert(\"Please Login First!\")\n",
    "          CloseWindow(\"buttoneditor\")\n",
    "          TaskbarIconClick(\"settings\")\n",
    "        }\n",
    "        document.getElementById(\"popup\").style.display = \"none\";\n",
    "        alert(\"Design Created Successfully!\")\n",
    "      })\n",
    "      // catch fetch errors (ie ACCESS to server blocked)\n",
    "      .catch(err => {\n",
    "        console.log(body);\n",
    "        console.error(err);\n",
    "      });\n",
    "  } else {\n",
    "    alert(\"Please enter a design name!\");\n",
    "  }"
   ]
  },
  {
   "cell_type": "markdown",
   "metadata": {},
   "source": [
    "## Algorithm Analysis\n",
    "In the ML projects, there is a great deal of algorithm analysis. Think about preparing data and predictions.\n",
    "\n",
    "- Show algorithms and preparation of data for analysis. This includes cleaning, encoding, and one-hot encoding.\n",
    "    - Below code demonstrates data cleaning in titanic ML project\n",
    "    - Garbage In, Garbage Out, if bad data is fed in bad data will come out therefore we need to clean data and remove bad datapoint\n",
    "    - Encoding: data may come in different forms, i.e. 1, male, female, we need to turn these all into numbers so that model can function, model functions only with numbers, does not work well with other data types."
   ]
  },
  {
   "cell_type": "code",
   "execution_count": null,
   "metadata": {},
   "outputs": [],
   "source": [
    "def _clean(self):\n",
    "        # Drop unnecessary columns\n",
    "        self.titanic_data.drop(['alive', 'who', 'adult_male', 'class', 'embark_town', 'deck'], axis=1, inplace=True)\n",
    "\n",
    "        # Convert boolean columns to integers\n",
    "        self.titanic_data['sex'] = self.titanic_data['sex'].apply(lambda x: 1 if x == 'male' else 0)\n",
    "        self.titanic_data['alone'] = self.titanic_data['alone'].apply(lambda x: 1 if x == True else 0)\n",
    "\n",
    "        # Drop rows with missing 'embarked' values before one-hot encoding\n",
    "        self.titanic_data.dropna(subset=['embarked'], inplace=True)\n",
    "        \n",
    "        # One-hot encode 'embarked' column\n",
    "        onehot = self.encoder.fit_transform(self.titanic_data[['embarked']]).toarray()\n",
    "        cols = ['embarked_' + str(val) for val in self.encoder.categories_[0]]\n",
    "        onehot_df = pd.DataFrame(onehot, columns=cols)\n",
    "        self.titanic_data = pd.concat([self.titanic_data, onehot_df], axis=1)\n",
    "        self.titanic_data.drop(['embarked'], axis=1, inplace=True)\n",
    "\n",
    "        # Add the one-hot encoded 'embarked' features to the features list\n",
    "        self.features.extend(cols)\n",
    "        \n",
    "        # Drop rows with missing values\n",
    "        self.titanic_data.dropna(inplace=True)"
   ]
  },
  {
   "cell_type": "markdown",
   "metadata": {},
   "source": [
    "- Show algorithms and preparation for predictions.\n",
    "    - Functions below use decision tree classifier and linear regression to train model\n",
    "    - First function trains model, second one transforms inputted dataset to a data frame array, and then runs a  prediction using the previously trained model"
   ]
  },
  {
   "cell_type": "code",
   "execution_count": null,
   "metadata": {},
   "outputs": [],
   "source": [
    "    def _train(self):\n",
    "        # split the data into features and target\n",
    "        X = self.titanic_data[self.features]\n",
    "        y = self.titanic_data[self.target]\n",
    "        \n",
    "        # perform train-test split\n",
    "        self.model = LogisticRegression(max_iter=1000)\n",
    "        \n",
    "        # train the model\n",
    "        self.model.fit(X, y)\n",
    "        \n",
    "        # train a decision tree classifier\n",
    "        self.dt = DecisionTreeClassifier()\n",
    "        self.dt.fit(X, y)\n",
    "\n",
    "    def predict(self, passenger):\n",
    "        \"\"\" Predict the survival probability of a passenger.\n",
    "\n",
    "        Args:\n",
    "            passenger (dict): A dictionary representing a passenger. The dictionary should contain the following keys:\n",
    "                'pclass': The passenger's class (1, 2, or 3)\n",
    "                'sex': The passenger's sex ('male' or 'female')\n",
    "                'age': The passenger's age\n",
    "                'sibsp': The number of siblings/spouses the passenger has aboard\n",
    "                'parch': The number of parents/children the passenger has aboard\n",
    "                'fare': The fare the passenger paid\n",
    "                'embarked': The port at which the passenger embarked ('C', 'Q', or 'S')\n",
    "                'alone': Whether the passenger is alone (True or False)\n",
    "\n",
    "        Returns:\n",
    "           dictionary : contains die and survive probabilities \n",
    "        \"\"\"\n",
    "        # clean the passenger data\n",
    "        passenger_df = pd.DataFrame(passenger, index=[0])\n",
    "        passenger_df['sex'] = passenger_df['sex'].apply(lambda x: 1 if x == 'male' else 0)\n",
    "        passenger_df['alone'] = passenger_df['alone'].apply(lambda x: 1 if x == True else 0)\n",
    "        onehot = self.encoder.transform(passenger_df[['embarked']]).toarray()\n",
    "        cols = ['embarked_' + str(val) for val in self.encoder.categories_[0]]\n",
    "        onehot_df = pd.DataFrame(onehot, columns=cols)\n",
    "        passenger_df = pd.concat([passenger_df, onehot_df], axis=1)\n",
    "        passenger_df.drop(['embarked', 'name'], axis=1, inplace=True)\n",
    "        \n",
    "        # predict the survival probability and extract the probabilities from numpy array\n",
    "        die, survive = np.squeeze(self.model.predict_proba(passenger_df))\n",
    "        # return the survival probabilities as a dictionary\n",
    "        return {'die': die, 'survive': survive}\n",
    "    "
   ]
  },
  {
   "cell_type": "markdown",
   "metadata": {},
   "source": [
    "- Discuss concepts and understanding of Linear Regression algorithms.\n",
    " - Linear regression is a way of making predictions, compares inputs and outputs and finds a \"line\" that best fit\n",
    " - Uses the line of best fit to make future prediction\n",
    " - Reason why data needs to be encoded and all data in number form\n",
    " - ![Image 1](https://media.geeksforgeeks.org/wp-content/uploads/20231129130431/11111111.png)\n",
    "- Discuss concepts and understanding of Decision Tree analysis algorithms.\n",
    " - Decision tree involves terminal nodes, or inputs\n",
    " - Decision tree has decision nodes that make decisions based upon terminal nodes and inputs. These nodes make another output based upon inputs and send it out. All nodes eventually converge into a root node that has final decision of tree\n",
    " - ![Image 2](https://av-eks-blogoptimized.s3.amazonaws.com/498772.png)"
   ]
  }
 ],
 "metadata": {
  "language_info": {
   "name": "python"
  }
 },
 "nbformat": 4,
 "nbformat_minor": 2
}
