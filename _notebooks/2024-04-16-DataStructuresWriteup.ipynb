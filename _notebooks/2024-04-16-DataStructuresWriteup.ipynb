{
 "cells": [
  {
   "cell_type": "markdown",
   "metadata": {},
   "source": [
    "---\n",
    "comments: true\n",
    "layout: post\n",
    "title: Data Structures Writeup\n",
    "description: .\n",
    "type: tangibles\n",
    "courses: { csp: {week: 26} }\n",
    "---"
   ]
  },
  {
   "cell_type": "markdown",
   "metadata": {},
   "source": [
    "## Collections\n",
    "- Blog Python Model code and SQLite Database."
   ]
  },
  {
   "cell_type": "code",
   "execution_count": null,
   "metadata": {},
   "outputs": [],
   "source": [
    "## Python Model\n",
    "class Design(db.Model):\n",
    "    __tablename__ = 'designs'\n",
    "\n",
    "    name = db.Column(db.String, unique=False, primary_key=True)\n",
    "    type = db.Column(db.Text, unique=False, nullable=False)\n",
    "    content = db.Column(db.String, unique=False)\n",
    "    # Define a relationship in Notes Schema to userID who originates the note, many-to-one (many notes to one user)\n",
    "    userID = db.Column(db.Integer, db.ForeignKey('users.id'))\n",
    "    likes = db.Column(db.Integer, unique=False, nullable=False)\n",
    "    dislikes = db.Column(db.Integer, unique=False, nullable=False)\n",
    "    description = db.Column(db.String, unique=False, nullable=False)\n",
    "    def __init__(self, id, type, content, name, likes=0, dislikes=0, description=\"\"):\n",
    "        self.userID = id\n",
    "        self.type = type\n",
    "        self.content = content\n",
    "        self.name = name\n",
    "        self.likes = likes\n",
    "        self.dislikes = dislikes\n",
    "        self.description = description\n",
    "\n",
    "    # Returns a string representation of the Notes object, similar to java toString()\n",
    "    # returns string\n",
    "    def __repr__(self):\n",
    "        return {\"Name\": self.name, \"Content\": self.content, \"Type\": self.type, \"Owner\": self.userID, \"Likes\": self.likes, \"Dislikes\": self.dislikes, \"Description\": self.description,}\n",
    "\n",
    "    # CRUD create, adds a new record to the Notes table\n",
    "    # returns the object added or None in case of an error\n",
    "    def create(self):\n",
    "        try:\n",
    "            # creates a Notes object from Notes(db.Model) class, passes initializers\n",
    "            db.session.add(self)  # add prepares to persist person object to Notes table\n",
    "            db.session.commit()  # SqlAlchemy \"unit of work pattern\" requires a manual commit\n",
    "            return self\n",
    "        except IntegrityError:\n",
    "            db.session.remove()\n",
    "            return None\n",
    "\n",
    "    # CRUD read, returns dictionary representation of Notes object\n",
    "    # returns dictionary\n",
    "    def read(self):\n",
    "        \n",
    "        return {\n",
    "            \"Name\": self.name,\n",
    "            \"Owner\": self.userID,\n",
    "            \"Content\": self.content,\n",
    "            \"Type\": self.type,\n",
    "            \"Likes\": self.likes,\n",
    "            \"Dislikes\": self.dislikes,\n",
    "            \"Description\": self.description,\n",
    "        }\n",
    "    \n",
    "    def update(self, name=\"\", content=\"\", type=\"\", likes=0, dislikes=0, description=''):\n",
    "        \"\"\"only updates values with length\"\"\"\n",
    "        if len(name) > 0:\n",
    "            self.name = name\n",
    "        if len(content) > 0:\n",
    "            self.content = content\n",
    "        if len(type) > 0:\n",
    "            self.type = type\n",
    "        if likes != 0:\n",
    "            self.likes += likes\n",
    "        if dislikes != 0:\n",
    "            self.dislikes += dislikes\n",
    "        if len(description) != 0:\n",
    "            self.description = description\n",
    "        db.session.commit()\n",
    "        return self\n",
    "    \n",
    "    def delete(self):\n",
    "        db.session.delete(self)\n",
    "        db.session.commit()\n",
    "        return None\n"
   ]
  },
  {
   "cell_type": "markdown",
   "metadata": {},
   "source": [
    "- From VSCode using SQLite3 Editor, show your unique collection/table in database, display rows and columns in the table of the SQLite database.\n",
    "    - ![Screenshot 1](../../../images/sqldata.png)\n",
    "- From VSCode model, show your unique code that was created to initialize table and create test data.\n",
    "    - See Code Below\n",
    "    - Code initializes three users, two default ones as requested by teacher, and an admin account for personal use."
   ]
  },
  {
   "cell_type": "code",
   "execution_count": null,
   "metadata": {},
   "outputs": [],
   "source": [
    "# User Initialization Code\n",
    "# Builds working data for testing\n",
    "def initUsers():\n",
    "    with app.app_context():\n",
    "        \"\"\"Create database and tables\"\"\"\n",
    "        db.create_all()\n",
    "        \"\"\"Tester data for table\"\"\"\n",
    "        u1 = User(name='Thomas Edison', uid='toby', password='123toby', type=\"admin\")\n",
    "        u2 = User(name='Nicholas Tesla', uid='niko', password='123niko', type=\"standard\")\n",
    "        u3 = User(name='Admin_User', uid='admin', type=\"admin\")\n",
    "        users = [u1, u2, u3]\n",
    "\n",
    "        \"\"\"Builds sample user/note(s) data\"\"\"\n",
    "        for user in users:\n",
    "            try:\n",
    "                '''add a few 1 to 4 notes per user'''\n",
    "                '''add user/post data to table'''\n",
    "                user.create()\n",
    "            except IntegrityError:\n",
    "                '''fails with bad or duplicate data'''\n",
    "                db.session.remove()\n",
    "                print(f\"Records exist, duplicate email, or error: {user.uid}\")"
   ]
  },
  {
   "cell_type": "markdown",
   "metadata": {},
   "source": [
    "## Lists and Dictionaries\n",
    "Blog Python API code and use of List and Dictionaries.\n",
    "\n",
    "- In VSCode using Debugger, show a list as extracted from database as Python objects.\n",
    "    - GET request is sent to backend to search for all public designs. Backend fetches all public designs into a list in python debugger called design_return (red line). List contains all designs as python objects (red line).\n",
    "    ![Screenshot 2](../../../images/listdebug.png)\n",
    "- In VSCode use Debugger and list, show two distinct example examples of dictionaries, show Keys/Values using debugger.\n",
    "    - After design is fetched, it is stored in python as a dictionary. This is viewable from the debugger as shown below. The purple values on the left are the keys, the values are shown on the right.\n",
    "    ![Screenshot 3](../../../images/dictionary1.png)\n",
    "    - When a design is created, the frontend sends an object with data regarding the design, such as its name and description. The backend then stores this data as a dictionary with keys in purple on the left and values on the right.\n",
    "    ![Screenshot 4](../../../images/dictionary2.png)"
   ]
  },
  {
   "cell_type": "markdown",
   "metadata": {},
   "source": [
    "## APIs and JSON\n",
    "Blog Python API code and use of Postman to request and respond with JSON.\n",
    "\n",
    "- In VSCode, show Python API code definition for request and response using GET, POST, UPDATE methods. Discuss algorithmic condition used to direct request to appropriate Python method based on request method.\n",
    "    - Within the code shown above, the API contains several CRUDs, such as a CRUD for modifying users and one for modifying Designs. \n",
    "    - A resource is then added to the API under the appropriate link.\n",
    "    - When a request is sent to the link, the appropriate function is called according to the type of request send."
   ]
  },
  {
   "cell_type": "code",
   "execution_count": null,
   "metadata": {},
   "outputs": [],
   "source": [
    "    api.add_resource(_CRUD, '/')\n",
    "    api.add_resource(_DesignCRUD, '/design')"
   ]
  },
  {
   "cell_type": "markdown",
   "metadata": {},
   "source": [
    "- In VSCode, show algorithmic conditions used to validate data on a POST condition.\n",
    "    - Algorithmic conditions ensure that inputted data is valid. The following two conditions are part of the user creation code. They ensure that the password is secure by ensuring that it is longer than a certain length, and ensure that a Name and password exists."
   ]
  },
  {
   "cell_type": "code",
   "execution_count": null,
   "metadata": {},
   "outputs": [],
   "source": [
    "            if name is None or len(name) < 2:\n",
    "                return {'message': f'Name is missing, or is less than 2 characters'}, 400\n",
    "            # validate uid\n",
    "            uid = body.get('uid')\n",
    "            if uid is None or len(uid) < 2:\n",
    "                return {'message': f'User ID is missing, or is less than 2 characters'}, 400\n",
    "            "
   ]
  },
  {
   "cell_type": "markdown",
   "metadata": {},
   "source": [
    "- In Postman, show URL request and Body requirements for GET, POST, and UPDATE methods.\n",
    "- In Postman, show the JSON response data for 200 success conditions on GET, POST, and UPDATE methods.\n",
    "![Screenshot 5](../../../images/post.png)\n",
    "![Screenshot 6](../../../images/get.png)\n",
    "![Screenshot 7](../../../images/put.png)\n",
    "- In Postman, show the JSON response for error for 400 when missing body on a POST request.\n",
    "![Screenshot 8](../../../images/posterror.png)\n",
    "In Postman, show the JSON response for error for 404 when providing an unknown user ID to a UPDATE request.\n",
    "- Updated user api code automatically retrieves user ID from JWT token by decoding it.\n",
    "- This means that no UserID needs to be provided, simply a name and password\n",
    "- This also ensures that users can only update their own user\n",
    "- See line below"
   ]
  },
  {
   "cell_type": "code",
   "execution_count": null,
   "metadata": {},
   "outputs": [],
   "source": [
    "cur_user = jwt.decode(token, current_app.config[\"SECRET_KEY\"], algorithms=[\"HS256\"])['_uid']"
   ]
  },
  {
   "cell_type": "markdown",
   "metadata": {},
   "source": [
    "## Frontend\n",
    "- Blog JavaScript API fetch code and formatting code to display JSON.\n",
    "\n",
    "- In Chrome inspect, show response of JSON objects from fetch of GET, POST, and UPDATE methods.\n",
    "    - After a search is done, a GET request is sent to the backend. The backend then fetches appropriate designs from the database as shown above. The data is then sent to the frontend as shown below.\n",
    "    ![Screenshot 9](../../../images/design.png)\n",
    "- In the Chrome browser, show a demo (GET) of obtaining an Array of JSON objects that are formatted into the browsers screen.\n",
    "    - This array of designs is then formatted into a table\n",
    "    ![Screenshot 10](../../../images/designbrowser.png)\n",
    "- In JavaScript code, describe fetch and method that obtained the Array of JSON objects.\n",
    "    - The following fetch gets all public designs from the database by sending a GET request (default) to the search URL. \n",
    "    - It verifies the data that is returned from the backend, then begins displaying the data inside a table."
   ]
  },
  {
   "cell_type": "code",
   "execution_count": null,
   "metadata": {
    "vscode": {
     "languageId": "javascript"
    }
   },
   "outputs": [],
   "source": [
    "function getPublic() {\n",
    "    fetch('http://127.0.0.1:8086/api/users/search')\n",
    "      .then(response => {\n",
    "        if (!response.ok) {\n",
    "          throw new Error('Network response was not ok');\n",
    "        }\n",
    "        return response.json();\n",
    "      })\n",
    "      .then(data => {\n",
    "        console.log(data); // Handle the data returned from the server\n",
    "        displayDataInTable(data.Designs);\n",
    "      })\n",
    "      .catch(error => {\n",
    "        console.error('There was a problem with the fetch operation:', error);\n",
    "      });\n",
    "  }"
   ]
  },
  {
   "cell_type": "markdown",
   "metadata": {},
   "source": [
    "- In JavaScript code, show code that performs iteration and formatting of data into HTML.\n",
    "    - The following function gets the container of the table, then creates a new string with HTML to append\n",
    "    - It adds a header row to the table, then iterates through each element of the design data, checking if the content or name includes the search term. If so, it adds a new row to the database with the design's information."
   ]
  },
  {
   "cell_type": "code",
   "execution_count": null,
   "metadata": {
    "vscode": {
     "languageId": "javascript"
    }
   },
   "outputs": [],
   "source": [
    "function displayDataInTable(data) {\n",
    "    var tableContainer = document.getElementById('tableContainer');\n",
    "    var tableHTML = '<table id=\"table\">';\n",
    "    const searchTerm = getSearchTerm();\n",
    "    tableHTML += '<tr><th>Name</th><th>Content</th><th>Description</th><th>Likes</th><th>Dislikes</th><th>Type</th></tr>';\n",
    "    data.forEach(function (item) {\n",
    "      // Check if searchTerm is a substring of Name or Content\n",
    "      if (searchTerm && (item.Name.includes(searchTerm) || (item.Content && item.Content.includes(searchTerm)))) {\n",
    "        tableHTML += '<tr>';\n",
    "        tableHTML += '<td class=\"nr\">' + item.Name + '</td>';\n",
    "        tableHTML += '<td>' + (item.Content || '') + '</td>';\n",
    "        tableHTML += '<td>' + item.Description + '</td>';\n",
    "        tableHTML += '<td><button onclick=\"toggleLike(this, this.closest(`tr`).querySelector(`.nr`).textContent)\" data-item-id=\"' + item.id + '\">Like</button><span class=\"likesCount\">' + item.Likes + '</span></td>';\n",
    "        tableHTML += '<td><button onclick=\"toggleDislike(this, this.closest(`tr`).querySelector(`.nr`).textContent)\" data-item-id=\"' + item.id + '\">Dislike</button><span class=\"dislikesCount\">' + item.Dislikes + '</span></td>';\n",
    "        tableHTML += '<td>' + item.Type + '</td>';\n",
    "        tableHTML += '</tr>';\n",
    "      }\n",
    "    });\n",
    "    tableHTML += '</table>';\n",
    "    tableContainer.innerHTML = tableHTML;\n",
    "  }"
   ]
  },
  {
   "cell_type": "markdown",
   "metadata": {},
   "source": [
    "- In the Chrome browser, show a demo (POST or UPDATE) gathering and sending input and receiving a response that show update. Repeat this demo showing both success and failure.\n",
    "    - Success of PUT request:\n",
    "    ![Screenshot 11](../../../images/putsuccess.png)\n",
    "    - Failure of POST request:\n",
    "    ![Screenshot 12](../../../images/postfailure.png)\n",
    "- In JavaScript code, show and describe code that handles success. Describe how code shows success to the user in the Chrome Browser screen.\n",
    "    - The following code verifies that the user is logged in, the response is OK, and the design is entered\n",
    "    - It then displays a success alert to the user, and sets the display attribute of the popup to none, allowing the user to access the button editor.\n",
    "- In JavaScript code, show and describe code that handles failure. Describe how the code shows failure to the user in the Chrome Browser screen.\n",
    "    - If the user is not logged in, it opens up the login window and sends a alert telling the user to log in. \n",
    "    - If the user has not inputted a design name, the code does not fetch at all and alerts the user of this."
   ]
  },
  {
   "cell_type": "code",
   "execution_count": null,
   "metadata": {
    "vscode": {
     "languageId": "javascript"
    }
   },
   "outputs": [],
   "source": [
    "if (name1.trim() !== \"\") {\n",
    "    const authOptions = {\n",
    "      mode: 'cors', // no-cors, *cors, same-origin\n",
    "      credentials: 'include', // include, same-origin, omit\n",
    "      headers: {\n",
    "        'Content-Type': 'application/json',\n",
    "      },\n",
    "      method: 'POST', // Override the method property\n",
    "      cache: 'no-cache', // Set the cache property\n",
    "      body: JSON.stringify(body)\n",
    "    };\n",
    "    console.log(body)\n",
    "    fetch(url, authOptions)\n",
    "      .then(response => {\n",
    "        // handle error response from Web API\n",
    "        if (!response.ok) {\n",
    "          alert(\"Please Login First!\")\n",
    "          CloseWindow(\"buttoneditor\")\n",
    "          TaskbarIconClick(\"settings\")\n",
    "        }\n",
    "        document.getElementById(\"popup\").style.display = \"none\";\n",
    "        alert(\"Design Created Successfully!\")\n",
    "      })\n",
    "      // catch fetch errors (ie ACCESS to server blocked)\n",
    "      .catch(err => {\n",
    "        console.log(body);\n",
    "        console.error(err);\n",
    "      });\n",
    "  } else {\n",
    "    alert(\"Please enter a design name!\");\n",
    "  }"
   ]
  }
 ],
 "metadata": {
  "language_info": {
   "name": "python"
  }
 },
 "nbformat": 4,
 "nbformat_minor": 2
}
