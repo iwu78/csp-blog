{
 "cells": [
  {
   "cell_type": "markdown",
   "metadata": {},
   "source": [
    "---\n",
    "layout: post\n",
    "title: Boolean If\n",
    "description: Lesson reviewing if statement logic, introduction to logic gates, and De Morgan's law\n",
    "type: hacks\n",
    "courses: {'csp': {'week': 8}}\n",
    "comments: true\n",
    "---\n",
    "\n",
    "plan out for now:\n",
    "- review on boolean and if statement\n",
    "    - usage of AND and OR, mod to check if even\n",
    "    - collegeboard pseudocode vs python\n",
    "- introduction to logic gates\n",
    "    - real life analogies\n",
    "    - diagrams\n",
    "    - NOT gate\n",
    "    - AND, NAND, OR, NOR\n",
    "    - XOR\n",
    "        - light swtich analogy\n",
    "        - ^ is the operator\n",
    "- De Morgan's law\n",
    "    - homework "
   ]
  },
  {
   "cell_type": "markdown",
   "metadata": {},
   "source": []
  }
 ],
 "metadata": {
  "language_info": {
   "name": "python"
  },
  "orig_nbformat": 4
 },
 "nbformat": 4,
 "nbformat_minor": 2
}
