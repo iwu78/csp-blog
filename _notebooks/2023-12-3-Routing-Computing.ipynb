{
 "cells": [
  {
   "cell_type": "markdown",
   "metadata": {},
   "source": [
    "---\n",
    "comments: true\n",
    "layout: post\n",
    "title: Routing and Computing\n",
    "description: Routing and Computing HW notes\n",
    "type: hacks\n",
    "courses: { csp: {week: 15} }\n",
    "---"
   ]
  },
  {
   "cell_type": "markdown",
   "metadata": {},
   "source": [
    "1. Parallel computing is when a large task is broken down into multiple tasks and each task is performed at the same time, or at the least as many at once as possible. This saves time when compared to sequential computing as multiple tasks are performed at once, rather than in order and waiting for one task to be done and then performing the next.\n",
    "\n",
    "2. The program will take 100ms to run as that is the length of the task that takes the longest to run. Assuming that each task starts at the same time, the task will finish when all three subtasks finish running, which is the length of the longest subtask.\n",
    "\n",
    "3. Parallel computing is more efficient as tasks are performed simultaneously, saving time compared to sequential computing, which requires waiting for each task to finish before starting the next task.\n",
    "\n",
    "4. Multiple routes/connections leading to the same path are known as redundancy, which when used excessively has its drawbacks, when used in moderation improves fault tolerance and prevents links going down from heavily impacting connectivity in the network.\n",
    "\n",
    "5. The above network is fault tolerant as it has multiple connects between each pair of devices"
   ]
  }
 ],
 "metadata": {
  "kernelspec": {
   "display_name": "Python 3",
   "language": "python",
   "name": "python3"
  },
  "language_info": {
   "codemirror_mode": {
    "name": "ipython",
    "version": 3
   },
   "file_extension": ".py",
   "mimetype": "text/x-python",
   "name": "python",
   "nbconvert_exporter": "python",
   "pygments_lexer": "ipython3",
   "version": "3.10.12"
  },
  "orig_nbformat": 4
 },
 "nbformat": 4,
 "nbformat_minor": 2
}
