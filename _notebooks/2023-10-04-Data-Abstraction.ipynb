{
 "cells": [
  {
   "cell_type": "markdown",
   "metadata": {},
   "source": [
    "---\n",
    "layout: post\n",
    "title: Data Abstraction\n",
    "description: Data Abstraction Homework\n",
    "type: hacks\n",
    "comments: true\n",
    "---\n",
    "\n",
    "The following code not only takes an array and displays the contents of it and displays the oldest person, but also allows the user to input the names and ages of people, allowing for more flexibility."
   ]
  },
  {
   "cell_type": "code",
   "execution_count": 8,
   "metadata": {},
   "outputs": [
    {
     "name": "stdout",
     "output_type": "stream",
     "text": [
      "All people: \n",
      "Name: Ian, Age: 15 \n",
      "Name: Trevor, Age: 15 \n",
      "Name: Jack, Age: 32 \n",
      "\n",
      "\n",
      " Oldest Person: Jack\n"
     ]
    }
   ],
   "source": [
    "people = {}\n",
    "done = False\n",
    "while not done:\n",
    "    name = input('Enter your name: ')\n",
    "    age = input('Enter your age: ')\n",
    "    people[name] = age\n",
    "    doneyet = input('Are there more people [y/n]: ')\n",
    "    if doneyet == 'n':\n",
    "        done = True\n",
    "\n",
    "def get_people(dict):\n",
    "    response = ''\n",
    "    for person in dict:\n",
    "        response += 'Name: ' + person + ', Age: ' + dict[person] + ' \\n'\n",
    "    return response\n",
    "\n",
    "def get_oldest_person(dict):\n",
    "    oldest_person = ''\n",
    "    oldest_age = 0\n",
    "    for person in dict:\n",
    "        if int(dict[person]) > oldest_age:\n",
    "            oldest_age = int(dict[person])\n",
    "            oldest_person = person\n",
    "    return oldest_person\n",
    "\n",
    "print('All people: \\n' + get_people(people))\n",
    "print('\\n Oldest Person: ' + get_oldest_person(people))"
   ]
  },
  {
   "cell_type": "code",
   "execution_count": 15,
   "metadata": {},
   "outputs": [
    {
     "name": "stdout",
     "output_type": "stream",
     "text": [
      "15\n",
      "True\n",
      "Pizza\n",
      "True\n",
      "['Nandan', 'Arnav', 'Torin', 'Remy']\n",
      "True\n",
      "True\n",
      "True\n",
      "{'Nandan': 'TeamMate1', 'Arnav': 'TeamMate2', 'Torin': 'TeamMate3', 'Remy': 'TeamMate4'}\n",
      "True\n"
     ]
    }
   ],
   "source": [
    "secretNumber = 15\n",
    "print(secretNumber)\n",
    "## secretNumber is an Integer\n",
    "print(isinstance(secretNumber, int))\n",
    "\n",
    "food = \"Pizza\"\n",
    "print(food)\n",
    "## food is a string\n",
    "print(isinstance(food, str))\n",
    "\n",
    "names = [\"Nandan\", \"Arnav\", \"Torin\", \"Remy\"]\n",
    "print(names)\n",
    "## names is an array, each element of names is a string\n",
    "print(isinstance(names, list))\n",
    "\n",
    "IamCool = True\n",
    "\n",
    "print(IamCool)\n",
    "## IamCool is a boolean\n",
    "print(isinstance(IamCool, bool))\n",
    "\n",
    "##Bonus Problem:\n",
    "\n",
    "names_2 = {\n",
    "    \"Nandan\": \"TeamMate1\",\n",
    "    \"Arnav\": \"TeamMate2\",\n",
    "    \"Torin\": \"TeamMate3\",\n",
    "    \"Remy\": \"TeamMate4\",\n",
    "}\n",
    "\n",
    "print(names_2)\n",
    "## name_2 is a dictionary, each key in the dictionary is a string, each value in the dictionary is also a string\n",
    "print(isinstance(names_2, dict))\n",
    "\n"
   ]
  },
  {
   "cell_type": "code",
   "execution_count": 14,
   "metadata": {},
   "outputs": [
    {
     "name": "stdout",
     "output_type": "stream",
     "text": [
      "Correct! The capital of AZ is Phoenix!\n",
      "Correct! The capital of CA is Sacramento!\n",
      "I am sorry, the capital of NV is Carson City.\n",
      "Correct! The capital of AZ is Phoenix!\n",
      "Congratulations, your score is 3!\n"
     ]
    }
   ],
   "source": [
    "import random\n",
    "## usage of dictionary to store state abbreviations\n",
    "stateAbr = {\n",
    "    \"California\": \"CA\",\n",
    "    \"Nevada\": \"NV\",\n",
    "    \"Alaska\": \"AK\",\n",
    "    \"Hawaii\": \"HI\",\n",
    "    \"Arizona\": \"AZ\"\n",
    "}\n",
    "# usage of integer to store score\n",
    "score = 0\n",
    "# usage of boolean\n",
    "done = False\n",
    "# using arrays here even though a dictionary would be better\n",
    "states = ['California', 'Nevada', 'Alaska', 'Hawaii', 'Arizona']\n",
    "capitals = ['Sacramento', 'Carson City', 'Juneau', 'Honolulu', 'Phoenix']\n",
    "\n",
    "# prompt user with question\n",
    "def promptUser():\n",
    "    state = random.randint(0, len(states) - 1)\n",
    "    a = input('What is the capital of ' + states[state])\n",
    "    return [a, state]\n",
    "\n",
    "while not done:\n",
    "    guess = promptUser()\n",
    "    # check if answer is correct\n",
    "    if guess[0] == capitals[guess[1]]:\n",
    "        print('Correct! The capital of ' + stateAbr[states[guess[1]]] + \" is \" + capitals[guess[1]] + \"!\")\n",
    "        score += 1\n",
    "    else:\n",
    "        print('I am sorry, the capital of ' + stateAbr[states[guess[1]]] + \" is \" + capitals[guess[1]] + '.')\n",
    "    doneyet = input('Do you want to continue [y/n]: ')\n",
    "    # exit if user is finished\n",
    "    if doneyet == 'n':\n",
    "        done = True\n",
    "\n",
    "# print score\n",
    "print('Congratulations, your score is ' + str(score) + '!')"
   ]
  }
 ],
 "metadata": {
  "kernelspec": {
   "display_name": "Python 3",
   "language": "python",
   "name": "python3"
  },
  "language_info": {
   "codemirror_mode": {
    "name": "ipython",
    "version": 3
   },
   "file_extension": ".py",
   "mimetype": "text/x-python",
   "name": "python",
   "nbconvert_exporter": "python",
   "pygments_lexer": "ipython3",
   "version": "3.10.12"
  },
  "orig_nbformat": 4
 },
 "nbformat": 4,
 "nbformat_minor": 2
}
