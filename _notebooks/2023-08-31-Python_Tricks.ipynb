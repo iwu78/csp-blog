{
 "cells": [
  {
   "cell_type": "markdown",
   "metadata": {},
   "source": [
    "---\n",
    "comments: true\n",
    "layout: post\n",
    "title: Python Tricks\n",
    "description: Some cool python tricks after the hacks section on pythonIO with wikipedia and emoji\n",
    "type: hacks\n",
    "courses: {csp: {week: 2}}\n",
    "---\n",
    "\n",
    "> The below code takes user input and searches for it on wikipedia"
   ]
  },
  {
   "cell_type": "code",
   "execution_count": 13,
   "metadata": {},
   "outputs": [
    {
     "name": "stdout",
     "output_type": "stream",
     "text": [
      "Defaulting to user installation because normal site-packages is not writeable\n",
      "Collecting emoji\n",
      "  Downloading emoji-2.8.0-py2.py3-none-any.whl (358 kB)\n",
      "\u001b[2K     \u001b[90m━━━━━━━━━━━━━━━━━━━━━━━━━━━━━━━━━━━━━━━\u001b[0m \u001b[32m358.9/358.9 KB\u001b[0m \u001b[31m6.7 MB/s\u001b[0m eta \u001b[36m0:00:00\u001b[0m00:01\u001b[0m00:01\u001b[0m\n",
      "\u001b[?25hInstalling collected packages: emoji\n",
      "Successfully installed emoji-2.8.0\n",
      "Note: you may need to restart the kernel to use updated packages.\n"
     ]
    }
   ],
   "source": [
    "pip install emoji"
   ]
  },
  {
   "cell_type": "code",
   "execution_count": 7,
   "metadata": {},
   "outputs": [
    {
     "name": "stdout",
     "output_type": "stream",
     "text": [
      "Enter Search: \n",
      "['San Diego', 'San Diego County, California', 'San Diego International Airport', 'University of California, San Diego', 'San Diego Comic-Con', 'San Diego Padres', 'San Diego–Tijuana', 'The San Diego Union-Tribune', 'San Diego Stadium', 'San Diego State University']\n",
      "Which result do you want? Enter 1 for the first result, and 2 for the second: \n",
      "Here is a summary of the requested article: \n"
     ]
    },
    {
     "data": {
      "text/markdown": [
       "San Diego County ( ()), officially the County of San Diego (Spanish: Condado de San Diego), is a county in the southwestern corner of the U.S. state of California. As of the 2020 census, the population was 3,298,634, making it California's second-most populous county and the fifth-most populous in the United States. Its county seat is San Diego, the second-most populous city in California and the eighth-most populous city in the United States. It is the southwesternmost county in the 48 contiguous United States, and is a border county. It is also home to 18 Native American tribal reservations, the most of any county in the United States.\n",
       "San Diego County comprises the San Diego-Chula Vista-Carlsbad, CA Metropolitan Statistical Area, which is the 17th most populous metropolitan statistical area and the 18th most populous primary statistical area of the United States as of July 1, 2012. San Diego County is also part of the San Diego–Tijuana transborder metropolitan area, the largest metropolitan area shared between the United States and Mexico.\n",
       "San Diego County has more than 70 miles (113 km) of coastline. This forms the most densely populated region of the county, which has a mild Mediterranean to semiarid climate and extensive chaparral vegetation, similar to the rest of the western portion of Southern California. Precipitation and temperature extremes increase to the east, with mountains that receive frost and snow in the winter. These lushly forested mountains receive more rainfall than the average in Southern California, while the desert region of the county lies in a rain shadow to the east, which extends into the Desert Southwest region of North America.\n",
       "There are 16 military installations, of the U.S. Navy, U.S. Marine Corps, and U.S. Coast Guard in San Diego County. These include Naval Base San Diego, Marine Corps Base Camp Pendleton, Naval Air Station North Island, Marine Corps Air Station Miramar, and Coast Guard Air Station San Diego.\n",
       "From north to south, San Diego County extends from the southern borders of Orange and Riverside Counties to the Mexico-U.S. border and the Baja California municipalities of Tijuana and Tecate. From west to east, San Diego County stretches from the Pacific Ocean to its boundary with Imperial County, which separated from it in 1907. Since 2010, statewide droughts in California have further strained San Diego County's water security.\n",
       "\n"
      ],
      "text/plain": [
       "<IPython.core.display.Markdown object>"
      ]
     },
     "metadata": {},
     "output_type": "display_data"
    }
   ],
   "source": [
    "import wikipedia\n",
    "from IPython.display import display, Markdown\n",
    "\n",
    "print('Enter Search: ')\n",
    "search = input()\n",
    "result = wikipedia.search(search)\n",
    "print(result)\n",
    "print('Which result do you want? Enter 1 for the first result, and 2 for the second: ')\n",
    "request = int(input()) - 1\n",
    "print('Here is a summary of the requested article: ')\n",
    "display(Markdown(wikipedia.summary(result[request])))"
   ]
  },
  {
   "cell_type": "code",
   "execution_count": 24,
   "metadata": {},
   "outputs": [
    {
     "name": "stdout",
     "output_type": "stream",
     "text": [
      "Python emojis are cool 👍\n"
     ]
    }
   ],
   "source": [
    "import emoji\n",
    "print(emoji.emojize(\"Python emojis are cool :thumbs_up:\"))"
   ]
  }
 ],
 "metadata": {
  "kernelspec": {
   "display_name": "Python 3",
   "language": "python",
   "name": "python3"
  },
  "language_info": {
   "codemirror_mode": {
    "name": "ipython",
    "version": 3
   },
   "file_extension": ".py",
   "mimetype": "text/x-python",
   "name": "python",
   "nbconvert_exporter": "python",
   "pygments_lexer": "ipython3",
   "version": "3.10.12"
  },
  "orig_nbformat": 4
 },
 "nbformat": 4,
 "nbformat_minor": 2
}
