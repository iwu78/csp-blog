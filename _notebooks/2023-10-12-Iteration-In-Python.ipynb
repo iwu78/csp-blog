{
 "cells": [
  {
   "cell_type": "markdown",
   "metadata": {},
   "source": [
    "---\n",
    "toc: true\n",
    "comments: true\n",
    "layout: post\n",
    "title: CB 3.7,3.8 - Iteration in Python\n",
    "description: Lesson for iteration in Python, using College Board lessons 3.7 & 3.8.\n",
    "type: hacks\n",
    "author: Advik Garg, Srijan Atti, Akhil Singamneni, Aashray Rajagopalan\n",
    "courses: { csp: {week: 8} }\n",
    "---"
   ]
  },
  {
   "cell_type": "markdown",
   "metadata": {},
   "source": [
    "# Introduction\n",
    "In this lesson, we will explore the various ways to create loops in Python. Loops are essential for repetitive tasks and are a fundamental concept in programming. We will cover different types of loops, advanced loop techniques, and how to work with lists and dictionaries using loops."
   ]
  },
  {
   "cell_type": "markdown",
   "metadata": {},
   "source": [
    "## For Loops\n",
    "- Used to iterate over a sequence (such as a list, tuple, string, or range) \n",
    "- Executes a block of code for each item in the sequence"
   ]
  },
  {
   "cell_type": "code",
   "execution_count": null,
   "metadata": {},
   "outputs": [],
   "source": [
    "# APCSP Pseudo-Code: Iterating Over a List of Fruits\n",
    "\n",
    "fruits ← [\"apple\", \"banana\", \"cherry\"]\n",
    "\n",
    "FOR EACH fruit IN fruits:\n",
    "    DISPLAY fruit\n",
    "END FOR\n",
    "\n",
    "\n"
   ]
  },
  {
   "cell_type": "code",
   "execution_count": 18,
   "metadata": {},
   "outputs": [
    {
     "name": "stdout",
     "output_type": "stream",
     "text": [
      "apple\n",
      "banana\n",
      "cherry\n"
     ]
    }
   ],
   "source": [
    "# Example 1: Simple for loop\n",
    "fruits = [\"apple\", \"banana\", \"cherry\"]\n",
    "for fruit in fruits:\n",
    "    print(fruit)"
   ]
  },
  {
   "cell_type": "markdown",
   "metadata": {},
   "source": [
    "## While Loops\n",
    "- Used to execute a block of code as long as a condition is true"
   ]
  },
  {
   "cell_type": "code",
   "execution_count": null,
   "metadata": {},
   "outputs": [],
   "source": [
    "# APCSP Pseudo-Code: Using a While Loop to Count and Display Numbers\n",
    "\n",
    "\n",
    "i ← 1\n",
    "\n",
    "\n",
    "WHILE i ≤ 5:\n",
    "    DISPLAY i\n",
    "    i ← i + 1\n",
    "END WHILE"
   ]
  },
  {
   "cell_type": "code",
   "execution_count": 17,
   "metadata": {},
   "outputs": [
    {
     "name": "stdout",
     "output_type": "stream",
     "text": [
      "1\n",
      "2\n",
      "3\n",
      "4\n",
      "5\n"
     ]
    }
   ],
   "source": [
    "# Example 2: Simple while loop\n",
    "i = 1\n",
    "while i <= 5:\n",
    "    print(i)\n",
    "    i += 1"
   ]
  },
  {
   "cell_type": "markdown",
   "metadata": {},
   "source": [
    "## Looping with Lists and Dictionaries\n",
    "- Used to iterate through the elements of lists and dictionaries"
   ]
  },
  {
   "cell_type": "code",
   "execution_count": null,
   "metadata": {},
   "outputs": [],
   "source": [
    "# APCSP Pseudo-Code: Loop Through a List\n",
    "\n",
    "numbers ← [1, 2, 3, 4]\n",
    "FOR EACH num IN numbers:\n",
    "    DISPLAY num\n",
    "END FOR\n",
    "\n",
    "# APCSP Pseudo-Code: Loop Through a Dictionary\n",
    "person ← {\"name\": \"aashray\", \"age\": 15, \"city\": \"San Diego\"}\n",
    "FOR EACH key, value IN person:\n",
    "    DISPLAY key, \":\", value\n",
    "END FOR\n"
   ]
  },
  {
   "cell_type": "code",
   "execution_count": 16,
   "metadata": {},
   "outputs": [
    {
     "name": "stdout",
     "output_type": "stream",
     "text": [
      "1\n",
      "2\n",
      "3\n",
      "4\n",
      "name : aashray\n",
      "age : 15\n",
      "city : San Diego\n"
     ]
    }
   ],
   "source": [
    "# Example 3: Loop through a list\n",
    "numbers = [1, 2, 3, 4]\n",
    "for num in numbers:\n",
    "    print(num)\n",
    "\n",
    "# Example 4: Loop through a dictionary\n",
    "person = {\"name\": \"aashray\", \"age\": 15, \"city\": \"San Diego\"}\n",
    "for key, value in person.items():\n",
    "    print(key, \":\", value)\n"
   ]
  },
  {
   "cell_type": "markdown",
   "metadata": {},
   "source": [
    "# Popcorn Hack 1\n",
    "\n",
    "- Use a loop to get X amount of inputs. Then use a loop to find the type of each value.\n",
    "\n",
    "- Extra Challenge: If an input is a number, make the corresponding value in the dictionary a number."
   ]
  },
  {
   "cell_type": "code",
   "execution_count": null,
   "metadata": {},
   "outputs": [],
   "source": [
    "sample_dict = {1: 'yes', 2: 5, 3:6.7}\n",
    "\n",
    "# Code goes here\n",
    "\n",
    "for item in sample_dict:\n",
    "    add = input('Enter new value: ')\n",
    "    try:\n",
    "        number = int(add)\n",
    "        sample_dict[sample_dict.length() + 1] = add\n",
    "    except:\n",
    "        sample_dict[add] = 'string'\n",
    "              "
   ]
  },
  {
   "cell_type": "markdown",
   "metadata": {},
   "source": [
    "## Looping with Index Variable\n",
    "You can use the `range` function to create a loop with an index variable."
   ]
  },
  {
   "cell_type": "code",
   "execution_count": null,
   "metadata": {},
   "outputs": [],
   "source": [
    "# APCSP Pseudo-Code: Loop Through a List Using Index\n",
    "\n",
    "lst ← [4, 6, 7, 2]\n",
    "FOR i IN RANGE(LENGTH(lst)):\n",
    "    DISPLAY \"Index: \" + STRING(i)\n",
    "    DISPLAY \"Element: \" + STRING(GET_ELEMENT(lst, i))\n",
    "END FOR"
   ]
  },
  {
   "cell_type": "code",
   "execution_count": 20,
   "metadata": {},
   "outputs": [
    {
     "name": "stdout",
     "output_type": "stream",
     "text": [
      "Index: 0\n",
      "Element: 4\n",
      "Index: 1\n",
      "Element: 6\n",
      "Index: 2\n",
      "Element: 7\n",
      "Index: 3\n",
      "Element: 2\n"
     ]
    }
   ],
   "source": [
    "# Example 5: Loop with an index variable\n",
    "\n",
    "lst = [4, 6, 7, 2]\n",
    "\n",
    "for i in range(len(lst)): # Loop for the number of elements in the list\n",
    "    print('Index: ' + str(i)) # Print the index\n",
    "    print('Element: ' + str(lst[i])) # Print the element"
   ]
  },
  {
   "cell_type": "markdown",
   "metadata": {},
   "source": [
    "## Nested If Statements\n",
    "You can nest conditional statements inside a `for` loop to execute different code based on conditions."
   ]
  },
  {
   "cell_type": "code",
   "execution_count": null,
   "metadata": {},
   "outputs": [],
   "source": [
    "# APCSP Pseudo-Code: For Loop with Nested If Statements\n",
    "\n",
    "numbers ← [1, 2, 3, 4, 5]\n",
    "FOR EACH num IN numbers:\n",
    "    IF num MOD 2 EQUALS 0:\n",
    "        DISPLAY num, \"is even\"\n",
    "    ELSE:\n",
    "        DISPLAY num, \"is odd\"\n",
    "    END IF\n",
    "END FOR\n"
   ]
  },
  {
   "cell_type": "code",
   "execution_count": 9,
   "metadata": {},
   "outputs": [
    {
     "name": "stdout",
     "output_type": "stream",
     "text": [
      "1 is odd\n",
      "2 is even\n",
      "3 is odd\n",
      "4 is even\n",
      "5 is odd\n"
     ]
    }
   ],
   "source": [
    "# Example 6: For loop with nested if statements\n",
    "numbers = [1, 2, 3, 4, 5]\n",
    "for num in numbers:\n",
    "    if num % 2 == 0:\n",
    "        print(num, \"is even\")\n",
    "    else:\n",
    "        print(num, \"is odd\")"
   ]
  },
  {
   "cell_type": "markdown",
   "metadata": {},
   "source": [
    "# Popcorn Hack 2\n",
    "\n",
    "- Use the input() function to append a range of integers from a list\n",
    "\n",
    "- Use a nested if statement to only print numbers in the list that are evenly divisble by 3"
   ]
  },
  {
   "cell_type": "code",
   "execution_count": 15,
   "metadata": {},
   "outputs": [
    {
     "name": "stdout",
     "output_type": "stream",
     "text": [
      "3\n",
      "6\n",
      "9\n",
      "12\n"
     ]
    }
   ],
   "source": [
    "nums = [1, 2, 3, 4, 5, 6, 7, 8, 9, 10, 11, 12, 13, 14, 15, 16, 17, 18, 19, 20]\n",
    "\n",
    "#Code goes here\n",
    "\n",
    "start = int(input('Enter Start Value: '))\n",
    "end = int(input('Enter End Value: '))\n",
    "\n",
    "newnum = []\n",
    "\n",
    "for i in range(end - 1):\n",
    "    newnum.append(nums[i + start])\n",
    "\n",
    "for num in newnum:\n",
    "    if True:\n",
    "        if num % 3 == 0:\n",
    "            print(num)"
   ]
  },
  {
   "cell_type": "markdown",
   "metadata": {},
   "source": [
    "## Try/Except\n",
    "- Using a `try` and `except` block inside a loop can handle errors gracefully.\n",
    "  \n",
    "- Very useful for production code, even in frontend webapps\n",
    "    - Ex: Giving an error page instead of dumping critical information on the webpage"
   ]
  },
  {
   "cell_type": "code",
   "execution_count": null,
   "metadata": {},
   "outputs": [],
   "source": [
    "# APCSP Pseudo-Code: Handling Errors in a For Loop\n",
    "\n",
    "numbers ← [1, 2, \"three\", 4, 0, \"five\"]\n",
    "FOR EACH item IN numbers:\n",
    "    TRY:\n",
    "        DISPLAY 10 / item\n",
    "    CATCH ZeroDivisionError:\n",
    "        DISPLAY \"Division by zero\"\n",
    "    CATCH TypeError:\n",
    "        DISPLAY \"Type error\"\n",
    "    END TRY\n",
    "END FOR\n"
   ]
  },
  {
   "cell_type": "code",
   "execution_count": 8,
   "metadata": {},
   "outputs": [
    {
     "name": "stdout",
     "output_type": "stream",
     "text": [
      "10.0\n",
      "5.0\n",
      "Type error\n",
      "2.5\n",
      "Division by zero\n",
      "Type error\n"
     ]
    }
   ],
   "source": [
    "numbers = [1, 2, \"three\", 4, 0, \"five\"]\n",
    "\n",
    "for item in numbers:\n",
    "    try:\n",
    "        print(10 / item)\n",
    "    except ZeroDivisionError: #Type of error: Dividing by Zero\n",
    "        print(\"Division by zero\")\n",
    "    except TypeError: #Type of error: Dividing by something that isn't a number\n",
    "        print(\"Type error\")"
   ]
  },
  {
   "cell_type": "markdown",
   "metadata": {},
   "source": [
    "# Popcorn Hack 3\n",
    "- Create a for loop that uses a try and except statement for an AttributeError\n",
    "- Use integers and a list to create scenarios where the loop will either print something expected or print an error message\n",
    "- *CHALLENGE:* Try using the `math` module for this error"
   ]
  },
  {
   "cell_type": "code",
   "execution_count": 30,
   "metadata": {},
   "outputs": [
    {
     "name": "stdout",
     "output_type": "stream",
     "text": [
      "AttributeError happened\n",
      "0.5\n",
      "math domain error\n",
      "-0.0\n",
      "math domain error\n",
      "division by zero\n",
      "2.0\n",
      "2.807354922057604\n",
      "1.5\n",
      "1.892789260714372\n"
     ]
    }
   ],
   "source": [
    "import math\n",
    "numbers = [-1, 0, 1, 2, 3]\n",
    "\n",
    "i = 10\n",
    "\n",
    "try:\n",
    "    i.append(4)\n",
    "except AttributeError:\n",
    "    print('AttributeError happened')\n",
    "\n",
    "for num in numbers:\n",
    "    try:\n",
    "        print(num / (num - 1))\n",
    "        print(math.log(num + 5, num))\n",
    "    except Exception as error:\n",
    "        print(error)"
   ]
  },
  {
   "cell_type": "markdown",
   "metadata": {},
   "source": [
    "## Continue and Break\n",
    "- `Continue` statement skips the current iteration\n",
    "- `Break` statement exits the loop prematurely"
   ]
  },
  {
   "cell_type": "code",
   "execution_count": null,
   "metadata": {},
   "outputs": [],
   "source": [
    "# APCSP Pseudo-Code: For Loop with Continue and Break\n",
    "\n",
    "numbers ← [1, 2, 3, 4, 5]\n",
    "FOR EACH num IN numbers:\n",
    " \n",
    "    IF num EQUALS 3:\n",
    "        CONTINUE\n",
    "    IF num EQUALS 5:\n",
    "        BREAK \n",
    "    DISPLAY num\n",
    "END FOR\n"
   ]
  },
  {
   "cell_type": "code",
   "execution_count": 6,
   "metadata": {},
   "outputs": [
    {
     "name": "stdout",
     "output_type": "stream",
     "text": [
      "1\n",
      "2\n",
      "4\n"
     ]
    }
   ],
   "source": [
    "# Example 8: For loop with continue and break\n",
    "numbers = [1, 2, 3, 4, 5]\n",
    "for num in numbers:\n",
    "    if num == 3:\n",
    "        continue  # Skip the number 3\n",
    "    if num == 5:\n",
    "        break  # Exit the loop when 5 is encountered\n",
    "    print(num)"
   ]
  },
  {
   "cell_type": "markdown",
   "metadata": {},
   "source": [
    "# Nested For Loops\n",
    "- You can also put for loops within for loops\n",
    "- Allows for looping an exponential amount of times"
   ]
  },
  {
   "cell_type": "code",
   "execution_count": null,
   "metadata": {},
   "outputs": [],
   "source": [
    "# APCSP Pseudo-Code: Nested Loops for Group Names\n",
    "\n",
    "groups ← [[\"advik\", \"aashray\"], [\"akhil\", \"srijan\"]]\n",
    "\n",
    "FOR EACH pair IN groups:\n",
    "    FOR EACH person IN pair:\n",
    "        DISPLAY person + \" is cool\"\n",
    "    END FOR\n",
    "    DISPLAY pair[0] + \" and \" + pair[1] + \" love to code code code\"\n",
    "END FOR\n"
   ]
  },
  {
   "cell_type": "code",
   "execution_count": 32,
   "metadata": {},
   "outputs": [
    {
     "name": "stdout",
     "output_type": "stream",
     "text": [
      "advik is cool\n",
      "aashray is cool\n",
      "advik and aashray love to code code code\n",
      "akhil is cool\n",
      "srijan is cool\n",
      "akhil and srijan love to code code code\n"
     ]
    }
   ],
   "source": [
    "groups = [['advik', 'aashray'], ['akhil', 'srijan']]\n",
    "\n",
    "for pair in groups:\n",
    "    for person in pair:\n",
    "        print(person + ' is cool')\n",
    "    print(pair[0] + ' and ' + pair[1] + ' love to code code code')"
   ]
  },
  {
   "cell_type": "markdown",
   "metadata": {},
   "source": [
    "# (OPTIONAL) Popcorn Hack 4\n",
    "- Create a nested for loop that iterates over a dictionary that has:\n",
    "    - A name for each key\n",
    "    - A list for each value containing stuff like age, grade, etc.\n",
    "- Break/continue if certain conditions are met\n",
    "- Have fun! If you want to, relate it to a theme!"
   ]
  },
  {
   "cell_type": "code",
   "execution_count": null,
   "metadata": {},
   "outputs": [],
   "source": [
    "people = {}\n",
    "\n",
    "# Code here"
   ]
  },
  {
   "cell_type": "markdown",
   "metadata": {},
   "source": [
    "## Iteration via Recursion\n",
    "- A technique where a function calls itself\n",
    "- Can be used to recreate loops until a certain condition is met"
   ]
  },
  {
   "cell_type": "code",
   "execution_count": null,
   "metadata": {},
   "outputs": [],
   "source": [
    "# APCSP Pseudo-Code: Recursion for Factorial Calculation\n",
    "\n",
    "FUNCTION factorial(n):\n",
    "    IF n EQUALS 0:\n",
    "        RETURN 1\n",
    "    ELSE IF n LESS THAN 0:\n",
    "        RETURN \"undefined\"\n",
    "    ELSE IF TYPEOF(n) EQUALS \"float\":\n",
    "        RETURN \"not solvable without gamma function\"\n",
    "    ELSE:\n",
    "        RETURN n TIMES factorial(n - 1)\n",
    "    END IF\n",
    "END FUNCTION\n",
    "\n",
    "result ← CALL factorial(5)\n",
    "DISPLAY \"Factorial of 5 is\", result\n"
   ]
  },
  {
   "cell_type": "code",
   "execution_count": 31,
   "metadata": {},
   "outputs": [
    {
     "name": "stdout",
     "output_type": "stream",
     "text": [
      "Factorial of 5 is 120\n"
     ]
    }
   ],
   "source": [
    "# Example 9: Recursion for factorial calculation\n",
    "def factorial(n):\n",
    "    if n == 0: #Conditions to stop the recursion\n",
    "        return 1 # 0! is 1\n",
    "    elif n < 0:\n",
    "        return \"undefined\" # Undefined for negative numbers \n",
    "    elif isinstance(n, float):\n",
    "        return \"not solvable without gamma function\" # Only accept integers\n",
    "    else:\n",
    "        return n * factorial(n - 1) #Function calling itself\n",
    "\n",
    "result = factorial(5)\n",
    "print(\"Factorial of 5 is\", result)"
   ]
  },
  {
   "cell_type": "markdown",
   "metadata": {},
   "source": [
    "# Homework\n",
    "\n",
    "- Add student names w/ grades to a dictionary until the user doesn't want more students\n",
    "    - Prompt for user input for all of these\n",
    "\n",
    "\n",
    "- Use a nested if/else statement in a for loop \n",
    "    - Get the highest score in the dictionary\n",
    "    - Add all students who passed into a new list (add student names, not their scores)\n",
    "\n",
    "\n",
    "\n",
    "- Bonus: Use a try/except for any scores that aren't integers "
   ]
  },
  {
   "cell_type": "code",
   "execution_count": 3,
   "metadata": {},
   "outputs": [
    {
     "name": "stdout",
     "output_type": "stream",
     "text": [
      "Welcome to Student Database!\n",
      "A: Update Student List\n",
      "B: Update Student Grades\n",
      "C: Get Student Grade\n",
      "D: Get Highest Grade\n",
      "E: Get Passing Students\n",
      "New Student List: {'John': 90}\n",
      "-------------------------------------------------------------\n",
      "A: Update Student List\n",
      "B: Update Student Grades\n",
      "C: Get Student Grade\n",
      "D: Get Highest Grade\n",
      "E: Get Passing Students\n",
      "John's grade is 90\n",
      "-------------------------------------------------------------\n",
      "A: Update Student List\n",
      "B: Update Student Grades\n",
      "C: Get Student Grade\n",
      "D: Get Highest Grade\n",
      "E: Get Passing Students\n",
      "New Student List: {'John': 91, 'Toby': 85, 'Hop': 97}\n",
      "-------------------------------------------------------------\n",
      "A: Update Student List\n",
      "B: Update Student Grades\n",
      "C: Get Student Grade\n",
      "D: Get Highest Grade\n",
      "E: Get Passing Students\n",
      "The highest scoring student is Hop. S/he has a grade of 97.\n",
      "-------------------------------------------------------------\n",
      "A: Update Student List\n",
      "B: Update Student Grades\n",
      "C: Get Student Grade\n",
      "D: Get Highest Grade\n",
      "E: Get Passing Students\n",
      "The following students passed: \n",
      "{'John': 91, 'Hop': 97}\n",
      "The following students failed: \n",
      "{'Toby': 85}\n",
      "-------------------------------------------------------------\n",
      "Thank you for using Student Database!\n"
     ]
    }
   ],
   "source": [
    "students = {}\n",
    "\n",
    "print('Welcome to Student Database!')\n",
    "finished = False\n",
    "while not finished:\n",
    "    print('A: Update Student List\\nB: Update Student Grades\\nC: Get Student Grade\\nD: Get Highest Grade\\nE: Get Passing Students')\n",
    "    usercannotread = True\n",
    "    while usercannotread:\n",
    "        option = input('What would you like to do?: ')\n",
    "        if option not in ['A', 'B', 'C', 'D', 'E']:\n",
    "            print('ERROR, there is no option ' + option)\n",
    "        else:\n",
    "            usercannotread = False\n",
    "    if option == 'A':\n",
    "        done = False\n",
    "        while not done:\n",
    "            student = input('Enter Student Name: ')\n",
    "            gradeIsValid = False\n",
    "            while not gradeIsValid:\n",
    "                grade = input('Enter Student Grade: ')\n",
    "                grade = int(grade)\n",
    "                gradeIsValid = True\n",
    "            students[student] = int(grade)\n",
    "            doneyet = input('Are you done yet? [y/n]: ')\n",
    "            if doneyet == 'y':\n",
    "                done = True\n",
    "        print('New Student List: ' + str(students))\n",
    "    elif option == 'B':\n",
    "        done = False\n",
    "        while not done:\n",
    "            student = input('Enter Student Name: ')\n",
    "            gradeIsValid = False  \n",
    "            grade = input('Enter Student Grade: ')\n",
    "            grade = int(grade)\n",
    "            gradeIsValid = True\n",
    "            if not(student in students):\n",
    "                print('Error: Student is not already in database. Adding Student')\n",
    "            students[student] = int(grade)\n",
    "            doneyet = input('Are you done yet? [y/n]: ')\n",
    "            if doneyet == 'y':\n",
    "                done = True\n",
    "        print('New Student List: ' + str(students))\n",
    "    elif option == 'C':\n",
    "        student = input('Enter Student Name: ')\n",
    "        print(student + '\\'s grade is ' + str(students[student]))\n",
    "    elif option == 'D':\n",
    "        highestStudent = ''\n",
    "        highestStudentScore = 0\n",
    "        for student in students:\n",
    "            if students[student] > highestStudentScore:\n",
    "                highestStudentScore = students[student]\n",
    "                highestStudent = student\n",
    "        print('The highest scoring student is ' + highestStudent + '. S/he has a grade of ' + str(highestStudentScore) + '.')\n",
    "    elif option == 'E':\n",
    "        passgrade = 70\n",
    "        change = input('The default passing score is 70%. Would you like to change it? [y/n]: ')\n",
    "        if change == 'y':\n",
    "            passIsValid = False\n",
    "            while not passIsValid:   \n",
    "                newpass = input('Enter passing grade (integer, number only): ')\n",
    "                passgrade = int(newpass)\n",
    "                passIsValid = True\n",
    "        passed = {}\n",
    "        passed_list = []\n",
    "        failed = {}\n",
    "        failed_list = []\n",
    "        for student in students:\n",
    "            if students[student] >= passgrade:\n",
    "                passed[student] = students[student]\n",
    "                ## useless arrays but required in question, dictionaries are more useful\n",
    "                passed_list.append(student)\n",
    "            else:\n",
    "                failed[student] = students[student]\n",
    "                failed_list.append(student)\n",
    "        print('The following students passed: ')\n",
    "        print(passed)\n",
    "        print('The following students failed: ')\n",
    "        print(failed)\n",
    "    finishedyet = input('Do you want to exit or keep working? [1 - exit, 2 - keep working]: ')\n",
    "    if finishedyet == '1':\n",
    "        finished = True\n",
    "    print('-------------------------------------------------------------')\n",
    "print('Thank you for using Student Database!')"
   ]
  },
  {
   "cell_type": "code",
   "execution_count": 4,
   "metadata": {},
   "outputs": [
    {
     "name": "stdout",
     "output_type": "stream",
     "text": [
      "Welcome to Student Database!\n",
      "A: Update Student List\n",
      "B: Update Student Grades\n",
      "C: Get Student Grade\n",
      "D: Get Highest Grade\n",
      "E: Get Passing Students\n",
      "New Student List: {'john': 90}\n",
      "-------------------------------------------------------------\n",
      "A: Update Student List\n",
      "B: Update Student Grades\n",
      "C: Get Student Grade\n",
      "D: Get Highest Grade\n",
      "E: Get Passing Students\n",
      "john's grade is 90\n",
      "-------------------------------------------------------------\n",
      "Thank you for using Student Database!\n"
     ]
    }
   ],
   "source": [
    "(lambda _Y: (lambda students: [print('Welcome to Student Database!'), (lambda finished: (lambda change, done, doneyet, failed, failed_list, finished, finishedyet, grade, gradeIsValid, highestStudent, highestStudentScore, newpass, option, passIsValid, passed, passed_list, passgrade, student, usercannotread: (lambda _loop1: _loop1(change, done, doneyet, failed, failed_list, finished, finishedyet, grade, gradeIsValid, highestStudent, highestStudentScore, newpass, option, passIsValid, passed, passed_list, passgrade, student, usercannotread))(_Y(lambda _loop1: (lambda change, done, doneyet, failed, failed_list, finished, finishedyet, grade, gradeIsValid, highestStudent, highestStudentScore, newpass, option, passIsValid, passed, passed_list, passgrade, student, usercannotread: ([print('A: Update Student List\\nB: Update Student Grades\\nC: Get Student Grade\\nD: Get Highest Grade\\nE: Get Passing Students'), (lambda usercannotread: (lambda option, usercannotread: (lambda _loop8: _loop8(option, usercannotread))(_Y(lambda _loop8: (lambda option, usercannotread: ((lambda option: ([print(('ERROR, there is no option ' + option)), _loop8(option, usercannotread)][-1] if (option not in ['A', 'B', 'C', 'D', 'E']) else (lambda usercannotread: _loop8(option, usercannotread))(False)))(input('What would you like to do?: '))) if usercannotread else ((lambda done: (lambda done, doneyet, grade, gradeIsValid, student: (lambda _loop2: _loop2(done, doneyet, grade, gradeIsValid, student))(_Y(lambda _loop2: (lambda done, doneyet, grade, gradeIsValid, student: ((lambda student: (lambda gradeIsValid: (lambda grade, gradeIsValid: (lambda _loop3: _loop3(grade, gradeIsValid))(_Y(lambda _loop3: (lambda grade, gradeIsValid: ((lambda grade: (lambda grade: (lambda gradeIsValid: _loop3(grade, gradeIsValid))(True))(int(grade)))(input('Enter Student Grade: '))) if not gradeIsValid else [(lambda doneyet: ((lambda done: _loop2(done, doneyet, grade, gradeIsValid, student))(True) if (doneyet == 'y') else _loop2(done, doneyet, grade, gradeIsValid, student)))(input('Are you done yet? [y/n]: ')) for students[student] in [int(grade)]][0]))))(grade if \"grade\" in dir() else None, gradeIsValid if \"gradeIsValid\" in dir() else None))(False))(input('Enter Student Name: '))) if not done else [print(('New Student List: ' + str(students))), (lambda finishedyet: ((lambda finished: [print('-------------------------------------------------------------'), _loop1(change, done, doneyet, failed, failed_list, finished, finishedyet, grade, gradeIsValid, highestStudent, highestStudentScore, newpass, option, passIsValid, passed, passed_list, passgrade, student, usercannotread)][-1])(True) if (finishedyet == '1') else [print('-------------------------------------------------------------'), _loop1(change, done, doneyet, failed, failed_list, finished, finishedyet, grade, gradeIsValid, highestStudent, highestStudentScore, newpass, option, passIsValid, passed, passed_list, passgrade, student, usercannotread)][-1]))(input('Do you want to exit or keep working? [1 - exit, 2 - keep working]: '))][-1]))))(done if \"done\" in dir() else None, doneyet if \"doneyet\" in dir() else None, grade if \"grade\" in dir() else None, gradeIsValid if \"gradeIsValid\" in dir() else None, student if \"student\" in dir() else None))(False) if (option == 'A') else ((lambda done: (lambda done, doneyet, grade, gradeIsValid, student: (lambda _loop4: _loop4(done, doneyet, grade, gradeIsValid, student))(_Y(lambda _loop4: (lambda done, doneyet, grade, gradeIsValid, student: ((lambda student: (lambda gradeIsValid: (lambda grade: (lambda grade: (lambda gradeIsValid: ([print('Error: Student is not already in database. Adding Student'), [(lambda doneyet: ((lambda done: _loop4(done, doneyet, grade, gradeIsValid, student))(True) if (doneyet == 'y') else _loop4(done, doneyet, grade, gradeIsValid, student)))(input('Are you done yet? [y/n]: ')) for students[student] in [int(grade)]][0]][-1] if not ((student in students)) else [(lambda doneyet: ((lambda done: _loop4(done, doneyet, grade, gradeIsValid, student))(True) if (doneyet == 'y') else _loop4(done, doneyet, grade, gradeIsValid, student)))(input('Are you done yet? [y/n]: ')) for students[student] in [int(grade)]][0]))(True))(int(grade)))(input('Enter Student Grade: ')))(False))(input('Enter Student Name: '))) if not done else [print(('New Student List: ' + str(students))), (lambda finishedyet: ((lambda finished: [print('-------------------------------------------------------------'), _loop1(change, done, doneyet, failed, failed_list, finished, finishedyet, grade, gradeIsValid, highestStudent, highestStudentScore, newpass, option, passIsValid, passed, passed_list, passgrade, student, usercannotread)][-1])(True) if (finishedyet == '1') else [print('-------------------------------------------------------------'), _loop1(change, done, doneyet, failed, failed_list, finished, finishedyet, grade, gradeIsValid, highestStudent, highestStudentScore, newpass, option, passIsValid, passed, passed_list, passgrade, student, usercannotread)][-1]))(input('Do you want to exit or keep working? [1 - exit, 2 - keep working]: '))][-1]))))(done if \"done\" in dir() else None, doneyet if \"doneyet\" in dir() else None, grade if \"grade\" in dir() else None, gradeIsValid if \"gradeIsValid\" in dir() else None, student if \"student\" in dir() else None))(False) if (option == 'B') else ((lambda student: [print(((student + \"'s grade is \") + str(students[student]))), (lambda finishedyet: ((lambda finished: [print('-------------------------------------------------------------'), _loop1(change, done, doneyet, failed, failed_list, finished, finishedyet, grade, gradeIsValid, highestStudent, highestStudentScore, newpass, option, passIsValid, passed, passed_list, passgrade, student, usercannotread)][-1])(True) if (finishedyet == '1') else [print('-------------------------------------------------------------'), _loop1(change, done, doneyet, failed, failed_list, finished, finishedyet, grade, gradeIsValid, highestStudent, highestStudentScore, newpass, option, passIsValid, passed, passed_list, passgrade, student, usercannotread)][-1]))(input('Do you want to exit or keep working? [1 - exit, 2 - keep working]: '))][-1])(input('Enter Student Name: ')) if (option == 'C') else ((lambda highestStudent: (lambda highestStudentScore: (lambda _term5, _items5: (lambda _targ5: (lambda _targ5, highestStudent, highestStudentScore, student: (lambda _loop5: _loop5(_targ5, highestStudent, highestStudentScore, student))(_Y(lambda _loop5: (lambda _targ5, highestStudent, highestStudentScore, student: ((lambda student: ((lambda highestStudentScore: (lambda highestStudent: (lambda _targ5: _loop5(_targ5, highestStudent, highestStudentScore, student))(next(_items5, _term5)))(student))(students[student]) if (students[student] > highestStudentScore) else (lambda _targ5: _loop5(_targ5, highestStudent, highestStudentScore, student))(next(_items5, _term5))))(_targ5)) if (_targ5 is not _term5) else [print((((('The highest scoring student is ' + highestStudent) + '. S/he has a grade of ') + str(highestStudentScore)) + '.')), (lambda finishedyet: ((lambda finished: [print('-------------------------------------------------------------'), _loop1(change, done, doneyet, failed, failed_list, finished, finishedyet, grade, gradeIsValid, highestStudent, highestStudentScore, newpass, option, passIsValid, passed, passed_list, passgrade, student, usercannotread)][-1])(True) if (finishedyet == '1') else [print('-------------------------------------------------------------'), _loop1(change, done, doneyet, failed, failed_list, finished, finishedyet, grade, gradeIsValid, highestStudent, highestStudentScore, newpass, option, passIsValid, passed, passed_list, passgrade, student, usercannotread)][-1]))(input('Do you want to exit or keep working? [1 - exit, 2 - keep working]: '))][-1]))))(_targ5 if \"_targ5\" in dir() else None, highestStudent if \"highestStudent\" in dir() else None, highestStudentScore if \"highestStudentScore\" in dir() else None, student if \"student\" in dir() else None))(next(_items5, _term5)))([], iter(students)))(0))('') if (option == 'D') else ((lambda passgrade: (lambda change: ((lambda passIsValid: (lambda newpass, passIsValid, passgrade: (lambda _loop7: _loop7(newpass, passIsValid, passgrade))(_Y(lambda _loop7: (lambda newpass, passIsValid, passgrade: ((lambda newpass: (lambda passgrade: (lambda passIsValid: _loop7(newpass, passIsValid, passgrade))(True))(int(newpass)))(input('Enter passing grade (integer, number only): '))) if not passIsValid else (lambda passed: (lambda passed_list: (lambda failed: (lambda failed_list: (lambda _term6, _items6: (lambda _targ6: (lambda _targ6, student: (lambda _loop6: _loop6(_targ6, student))(_Y(lambda _loop6: (lambda _targ6, student: ((lambda student: ([[passed_list.append(student), (lambda _targ6: _loop6(_targ6, student))(next(_items6, _term6))][-1] for passed[student] in [students[student]]][0] if (students[student] >= passgrade) else [[failed_list.append(student), (lambda _targ6: _loop6(_targ6, student))(next(_items6, _term6))][-1] for failed[student] in [students[student]]][0]))(_targ6)) if (_targ6 is not _term6) else [print('The following students passed: '), [print(passed), [print('The following students failed: '), [print(failed), (lambda finishedyet: ((lambda finished: [print('-------------------------------------------------------------'), _loop1(change, done, doneyet, failed, failed_list, finished, finishedyet, grade, gradeIsValid, highestStudent, highestStudentScore, newpass, option, passIsValid, passed, passed_list, passgrade, student, usercannotread)][-1])(True) if (finishedyet == '1') else [print('-------------------------------------------------------------'), _loop1(change, done, doneyet, failed, failed_list, finished, finishedyet, grade, gradeIsValid, highestStudent, highestStudentScore, newpass, option, passIsValid, passed, passed_list, passgrade, student, usercannotread)][-1]))(input('Do you want to exit or keep working? [1 - exit, 2 - keep working]: '))][-1]][-1]][-1]][-1]))))(_targ6 if \"_targ6\" in dir() else None, student if \"student\" in dir() else None))(next(_items6, _term6)))([], iter(students)))([]))({}))([]))({})))))(newpass if \"newpass\" in dir() else None, passIsValid if \"passIsValid\" in dir() else None, passgrade if \"passgrade\" in dir() else None))(False) if (change == 'y') else (lambda passed: (lambda passed_list: (lambda failed: (lambda failed_list: (lambda _term6, _items6: (lambda _targ6: (lambda _targ6, student: (lambda _loop6: _loop6(_targ6, student))(_Y(lambda _loop6: (lambda _targ6, student: ((lambda student: ([[passed_list.append(student), (lambda _targ6: _loop6(_targ6, student))(next(_items6, _term6))][-1] for passed[student] in [students[student]]][0] if (students[student] >= passgrade) else [[failed_list.append(student), (lambda _targ6: _loop6(_targ6, student))(next(_items6, _term6))][-1] for failed[student] in [students[student]]][0]))(_targ6)) if (_targ6 is not _term6) else [print('The following students passed: '), [print(passed), [print('The following students failed: '), [print(failed), (lambda finishedyet: ((lambda finished: [print('-------------------------------------------------------------'), _loop1(change, done, doneyet, failed, failed_list, finished, finishedyet, grade, gradeIsValid, highestStudent, highestStudentScore, newpass, option, passIsValid, passed, passed_list, passgrade, student, usercannotread)][-1])(True) if (finishedyet == '1') else [print('-------------------------------------------------------------'), _loop1(change, done, doneyet, failed, failed_list, finished, finishedyet, grade, gradeIsValid, highestStudent, highestStudentScore, newpass, option, passIsValid, passed, passed_list, passgrade, student, usercannotread)][-1]))(input('Do you want to exit or keep working? [1 - exit, 2 - keep working]: '))][-1]][-1]][-1]][-1]))))(_targ6 if \"_targ6\" in dir() else None, student if \"student\" in dir() else None))(next(_items6, _term6)))([], iter(students)))([]))({}))([]))({})))(input('The default passing score is 70%. Would you like to change it? [y/n]: ')))(70) if (option == 'E') else (lambda finishedyet: ((lambda finished: [print('-------------------------------------------------------------'), _loop1(change, done, doneyet, failed, failed_list, finished, finishedyet, grade, gradeIsValid, highestStudent, highestStudentScore, newpass, option, passIsValid, passed, passed_list, passgrade, student, usercannotread)][-1])(True) if (finishedyet == '1') else [print('-------------------------------------------------------------'), _loop1(change, done, doneyet, failed, failed_list, finished, finishedyet, grade, gradeIsValid, highestStudent, highestStudentScore, newpass, option, passIsValid, passed, passed_list, passgrade, student, usercannotread)][-1]))(input('Do you want to exit or keep working? [1 - exit, 2 - keep working]: ')))))))))))(option if \"option\" in dir() else None, usercannotread if \"usercannotread\" in dir() else None))(True)][-1]) if not finished else print('Thank you for using Student Database!')))))(change if \"change\" in dir() else None, done if \"done\" in dir() else None, doneyet if \"doneyet\" in dir() else None, failed if \"failed\" in dir() else None, failed_list if \"failed_list\" in dir() else None, finished if \"finished\" in dir() else None, finishedyet if \"finishedyet\" in dir() else None, grade if \"grade\" in dir() else None, gradeIsValid if \"gradeIsValid\" in dir() else None, highestStudent if \"highestStudent\" in dir() else None, highestStudentScore if \"highestStudentScore\" in dir() else None, newpass if \"newpass\" in dir() else None, option if \"option\" in dir() else None, passIsValid if \"passIsValid\" in dir() else None, passed if \"passed\" in dir() else None, passed_list if \"passed_list\" in dir() else None, passgrade if \"passgrade\" in dir() else None, student if \"student\" in dir() else None, usercannotread if \"usercannotread\" in dir() else None))(False)][-1])({}))((lambda f: (lambda x: x(x))(lambda y: f(lambda *args: y(y)(*args)))))"
   ]
  }
 ],
 "metadata": {
  "kernelspec": {
   "display_name": "Python 3",
   "language": "python",
   "name": "python3"
  },
  "language_info": {
   "codemirror_mode": {
    "name": "ipython",
    "version": 3
   },
   "file_extension": ".py",
   "mimetype": "text/x-python",
   "name": "python",
   "nbconvert_exporter": "python",
   "pygments_lexer": "ipython3",
   "version": "3.10.12"
  }
 },
 "nbformat": 4,
 "nbformat_minor": 2
}
