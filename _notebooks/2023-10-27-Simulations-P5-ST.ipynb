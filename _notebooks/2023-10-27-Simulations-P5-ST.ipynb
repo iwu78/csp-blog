{
 "cells": [
  {
   "cell_type": "markdown",
   "metadata": {},
   "source": [
    "---\n",
    "comments: true\n",
    "layout: post\n",
    "title: Simulations - Student Teach\n",
    "description: Student Lesson\n",
    "type: hacks\n",
    "courses: { compsci: {week: 10} }\n",
    "---"
   ]
  },
  {
   "cell_type": "markdown",
   "metadata": {},
   "source": [
    "## Simulations \n"
   ]
  },
  {
   "cell_type": "markdown",
   "metadata": {},
   "source": [
    "> A simulation is the use of a computer software to represent the dynamic responses of one system by the behaviour of another system modeled after it. A simulation uses a mathematical descriptions, or models, of a real system in the form of a computer program."
   ]
  },
  {
   "cell_type": "markdown",
   "metadata": {},
   "source": [
    "![simulation](https://www.simscale.com/wp-content/uploads/2022/11/dron-quadcopter-simulation.png)"
   ]
  },
  {
   "cell_type": "markdown",
   "metadata": {},
   "source": [
    "## College Board Essential Knowledge"
   ]
  },
  {
   "cell_type": "markdown",
   "metadata": {},
   "source": [
    "> Simulation are absractions of more complex objects or phenomena for a specific purpose \n",
    "\n",
    "- Mimic Real World Events\n",
    "- Allows investigation of phenomenons without contraints of the Real World\n",
    "- Helps you draw accurate inferences\n",
    "\n",
    "> Simulations utilize varying sets of values to reflect the changings states of a phenomenon\n",
    "\n",
    "- simulations can simplfly things for functionality\n",
    "- Simulations can contain bias from real world elements, that were chosen to be included or excluded\n",
    "\n",
    "> Simulations work best when the real world experemnts are too impractical or time consuming. For example, simulating how different cars behave when they crash, would be much better than crashng actual cars in the real world, which would be expensive and dangerous.\n",
    "\n",
    "<a href=\"https://ibb.co/f4jKcBY\"><img src=\"https://i.ibb.co/NZck4Q6/simulations-vs-experiments.png\" alt=\"simulations-vs-experiments\" border=\"0\"></a>\n"
   ]
  },
  {
   "cell_type": "markdown",
   "metadata": {},
   "source": [
    "## Rolling the Dice"
   ]
  },
  {
   "cell_type": "markdown",
   "metadata": {},
   "source": [
    "<a href=\"https://ibb.co/PGBhfPD\"><img src=\"https://i.ibb.co/XxmsvKY/craps-rolling-seven-7.jpg\" alt=\"craps-rolling-seven-7\" border=\"0\"></a>\n",
    "\n",
    "> Simulating something like a dice roll in real life would require accounting for things like: weight, flaws in design, thrust, and gravity.\n",
    "- KEEP IT SIMPLE! just use a random-number generator! Ignore minor causes of variablility"
   ]
  },
  {
   "cell_type": "markdown",
   "metadata": {},
   "source": [
    "## Random"
   ]
  },
  {
   "cell_type": "markdown",
   "metadata": {},
   "source": [
    "- \"Random\" is a built-in python function that allow the user to draw a random value from a set range.\n",
    "- A Random Number Generator (RNG) is a common simulation that selects a random value from an array.\n",
    "- The following code cell utilizes \"random\" to select a number from 1 to 100."
   ]
  },
  {
   "cell_type": "code",
   "execution_count": null,
   "metadata": {},
   "outputs": [],
   "source": [
    "#imports random module so we can use it in our code\n",
    "import random\n",
    "\n",
    "#sets variable random_number as a random number between 1 and 100\n",
    "random_number = random.randint(1, 100)\n",
    "\n",
    "#Printing out your random Number\n",
    "print(random_number)"
   ]
  },
  {
   "cell_type": "markdown",
   "metadata": {},
   "source": [
    "## More complex usage of \"random\"; Coin Toss Simulation"
   ]
  },
  {
   "cell_type": "code",
   "execution_count": null,
   "metadata": {},
   "outputs": [],
   "source": [
    "import random\n",
    "def flip_coin():\n",
    "    return random.choice([\"Heads\", \"Tails\"])\n",
    "def coin_flip_simulation(num_flips):\n",
    "    heads_count = 0\n",
    "    tails_count = 0\n",
    "    for _ in range(num_flips):\n",
    "        result = flip_coin()\n",
    "        if result == \"Heads\":\n",
    "            heads_count += 1\n",
    "        else:\n",
    "            tails_count += 1\n",
    "    return heads_count, tails_count\n",
    "if __name__ == \"__main__\":\n",
    "    num_flips = 1000  #This is the number of coin flips you want to simulate\n",
    "    heads, tails = coin_flip_simulation(num_flips)\n",
    "    print(\"Number of Heads: \"+ str(heads))\n",
    "    print(\"Number of Tails: \" + str(tails))\n",
    "    print(\"Heads Probability: \"+ str({heads / num_flips}))\n",
    "    print(\"Tails Probability: \"+ str({tails / num_flips}))"
   ]
  },
  {
   "cell_type": "markdown",
   "metadata": {},
   "source": [
    "## Popcorn Hack #1"
   ]
  },
  {
   "cell_type": "markdown",
   "metadata": {},
   "source": [
    "Utilize \"random\" to create a basic simulation of a rolling TWO dice. Print the sum of both dice rolls. Remember to practice good syntax when naming your variables. "
   ]
  },
  {
   "cell_type": "code",
   "execution_count": 3,
   "metadata": {},
   "outputs": [
    {
     "name": "stdout",
     "output_type": "stream",
     "text": [
      "Dice 1: 8\n"
     ]
    }
   ],
   "source": [
    "import random\n",
    "\n",
    "print(\"Dice 1: \" + str(random.randint(1, 6) + random.randint(1, 6)))\n",
    "\n",
    "#Code, Code, Code"
   ]
  },
  {
   "cell_type": "markdown",
   "metadata": {},
   "source": [
    "## Algorithms\n",
    ">Simulations often utilize algorithms and equations to perform tasks because simulations don't always have the same output\n",
    "- the output of a simulation depends on the input\n",
    "\n",
    ">An algorithm is a finite sequence of instructions used to solve problems or perform computations. \n",
    "- commonly used alongside functions\n"
   ]
  },
  {
   "cell_type": "markdown",
   "metadata": {},
   "source": [
    "## Example Algorithm in a function"
   ]
  },
  {
   "cell_type": "code",
   "execution_count": 42,
   "metadata": {},
   "outputs": [
    {
     "data": {
      "text/plain": [
       "7"
      ]
     },
     "execution_count": 42,
     "metadata": {},
     "output_type": "execute_result"
    }
   ],
   "source": [
    "#Defining Function\n",
    "def algorithm(input):\n",
    "    \n",
    "    #Manipulating input and preparing it for the output.  \n",
    "    output = input+2\n",
    "    \n",
    "    #Return the output\n",
    "    return output\n",
    "\n",
    "#Call the Function to start the algorithm\n",
    "algorithm(5)\n",
    "    "
   ]
  },
  {
   "cell_type": "markdown",
   "metadata": {},
   "source": [
    "## Mathematics\n",
    "- Math can also prove to be very useful in certain types of situations.\n",
    "- Commonly used along with Algorithms when simulating various things\n",
    "\n",
    "![math](https://pythontutorialhome.files.wordpress.com/2019/05/image-2.png)\n"
   ]
  },
  {
   "cell_type": "markdown",
   "metadata": {},
   "source": [
    "## Popcorn Hack #2"
   ]
  },
  {
   "cell_type": "markdown",
   "metadata": {},
   "source": [
    "Simulate how long an object will fall for using an algorithm, with user-inputed variables for height dropped. Use the following formula as a reference.\n",
    "\n",
    "![gravity ](https://hepweb.ucsd.edu/ph110b/110b_notes/img272.png)\n",
    "\n",
    "- t = time (output)\n",
    "- h = height dropped from (input)\n",
    "- g = constant (given)"
   ]
  },
  {
   "cell_type": "code",
   "execution_count": null,
   "metadata": {},
   "outputs": [],
   "source": [
    "# Constant, Acceleration due to gravity (m/s^2)\n",
    "import math\n",
    "G = 9.81 \n",
    "\n",
    "def simulation(height_dropped):\n",
    "    return math.sqrt((2 * height_dropped) / G) \n",
    "\n",
    "print(simulation())"
   ]
  },
  {
   "cell_type": "markdown",
   "metadata": {},
   "source": [
    "# Using Loops in Simulations"
   ]
  },
  {
   "cell_type": "markdown",
   "metadata": {},
   "source": [
    "> For loops can also be used in simulations\n",
    "- They can simulate events that repeat but don't always have the same output\n"
   ]
  },
  {
   "cell_type": "code",
   "execution_count": 44,
   "metadata": {},
   "outputs": [
    {
     "name": "stdout",
     "output_type": "stream",
     "text": [
      "This is run number: 0\n",
      "This is run number: 1\n",
      "This is run number: 2\n",
      "This is run number: 3\n"
     ]
    }
   ],
   "source": [
    "# Example For Loop\n",
    "\n",
    "#Creating For Loop to repeat 4 times\n",
    "for i in range(4):\n",
    "    \n",
    "    #Action that happens inside for loop\n",
    "    print(\"This is run number: \" + str(i))\n",
    "    "
   ]
  },
  {
   "cell_type": "markdown",
   "metadata": {},
   "source": [
    "## Popcorn Hack #3"
   ]
  },
  {
   "cell_type": "markdown",
   "metadata": {},
   "source": [
    "You are gambling addict (sigma). \n",
    "\n",
    "Each session you roll 2 dice.\n",
    "\n",
    "If your dice roll is greater than or equal to 9 you win the session.\n",
    "\n",
    "If you win over 5 sessions, you win the jackpot.\n",
    "\n",
    "Simulate your odds to predict if you will hit the jackpot (how many rounds did you win?) using a for loop and random.\n"
   ]
  },
  {
   "cell_type": "code",
   "execution_count": 7,
   "metadata": {},
   "outputs": [
    {
     "name": "stdout",
     "output_type": "stream",
     "text": [
      "You won 1 rounds out of 10 total rounds, for a 10.0% chance of winning\n"
     ]
    }
   ],
   "source": [
    "import random\n",
    "\n",
    "win = 0\n",
    "lose = 0\n",
    "trials = int(input(\"How many trials do you want: \"))\n",
    "for i in range(trials): \n",
    "    result = random.randint(1, 6) + random.randint(1, 6)\n",
    "    if result > 8:\n",
    "        win += 1\n",
    "    else:\n",
    "        lose += 1\n",
    "\n",
    "print(\"You won \" + str(win) + \" rounds out of \" + str(trials) + \" total rounds, for a \" + str(win / trials * 100) + \"% chance of winning\")\n"
   ]
  },
  {
   "cell_type": "markdown",
   "metadata": {},
   "source": [
    "## BONUS POPCORN HACK\n",
    "> Welcome to Flight Simulator! Your goal is to complete a Python program that simulates a flight We've set up some initial values for altitude, speed, and fuel. Your task is to update these values to make the flight more realistic.\n",
    "\n",
    "- Your mission:\n",
    "\n",
    "1. Use random changes to simulate altitude, speed, and fuel changes.\n",
    "2. Keep the flight going until it reaches 10,000 feet or runs out of fuel.\n",
    "3. Make sure altitude, speed, and fuel remain realistic."
   ]
  },
  {
   "cell_type": "code",
   "execution_count": null,
   "metadata": {},
   "outputs": [],
   "source": [
    "import random\n",
    "\n",
    "# Initial parameters\n",
    "altitude = 0\n",
    "speed = 0\n",
    "fuel = 100\n",
    "\n",
    "print(\"Welcome to Flight Simulator!\")\n",
    "\n",
    "# Code Code Code"
   ]
  },
  {
   "cell_type": "markdown",
   "metadata": {},
   "source": [
    "## QUIZ TIME"
   ]
  },
  {
   "cell_type": "markdown",
   "metadata": {},
   "source": [
    "- Quick true or false quiz, whoever answers this correctly(raise your hand) gets a piece of gum or a dinero. \n",
    "<hr>\n",
    "\n",
    "> T or F    \n",
    "- A simulation will always have the same result.\n",
    "> T or F    \n",
    "- A simulation investigates a phenomenom without real-world constraints of time, money, or safety.\n",
    "> T or F    \n",
    "- A simulation has results which are more accurate than an experiment,\n",
    "> T or F    \n",
    "- A simulation can model real-worl events that are not practical for experiments"
   ]
  },
  {
   "cell_type": "markdown",
   "metadata": {},
   "source": [
    "## HOMEWORK HACK #1 "
   ]
  },
  {
   "cell_type": "markdown",
   "metadata": {},
   "source": [
    "First finish Popcorn Hack #3. Expand the simulation to involve your own money.\n",
    "\n",
    "starting money: $100\n",
    "\n",
    "(Dice Roll <= 3) &rarr; lose $70\n",
    "\n",
    "( 6> Dice Roll >3) &rarr; lose $40\n",
    "\n",
    "( 9> Dice Roll >=6) &rarr; win $20\n",
    "\n",
    "( Dice Roll>= 9 + Session Win) &rarr; win $50\n",
    "\n",
    "Jackpot &rarr; win $100"
   ]
  },
  {
   "cell_type": "code",
   "execution_count": 7,
   "metadata": {},
   "outputs": [
    {
     "name": "stdout",
     "output_type": "stream",
     "text": [
      "You rolled a 6 and a 3!\n",
      "You win 50 dollars!\n",
      "You rolled a 6 and a 2!\n",
      "You win 20 dollars!\n",
      "You rolled a 6 and a 5!\n",
      "You win 50 dollars!\n",
      "You rolled a 2 and a 2!\n",
      "You lose 40 dollars!\n",
      "You rolled a 6 and a 2!\n",
      "You win 20 dollars!\n",
      "You rolled a 4 and a 6!\n",
      "You win 50 dollars!\n",
      "You rolled a 3 and a 1!\n",
      "You lose 40 dollars!\n",
      "You rolled a 6 and a 1!\n",
      "You win 20 dollars!\n",
      "You rolled a 5 and a 1!\n",
      "You win 20 dollars!\n",
      "You rolled a 2 and a 1!\n",
      "You lose 70 dollars!\n",
      "You won 80 dollars!\n"
     ]
    }
   ],
   "source": [
    "import random\n",
    "import math\n",
    "\n",
    "money = int(input(\"Enter starting money: \"))\n",
    "original = money\n",
    "sims = int(input(\"How many times do you want to simulate: \"))\n",
    "sessionwins = 0\n",
    "\n",
    "roll = True\n",
    "\n",
    "for i in range(sims):\n",
    "    dice1 = random.randint(1, 6)\n",
    "    dice2 = random.randint(1, 6)\n",
    "    print(\"You rolled a \" + str(dice1) + \" and a \" + str(dice2) + \"!\")\n",
    "    if dice1 + dice2 <= 3:\n",
    "        print(\"You lose 70 dollars!\")\n",
    "        money = money - 70\n",
    "    elif dice1 + dice2 < 6:\n",
    "        print(\"You lose 40 dollars!\")\n",
    "        money = money - 40\n",
    "    elif dice1 + dice2 < 9:\n",
    "        print(\"You win 20 dollars!\")\n",
    "        money = money + 20\n",
    "    else:\n",
    "        print(\"You win 50 dollars!\")\n",
    "        money = money + 50\n",
    "        sessionwins = sessionwins + 1\n",
    "    if sessionwins == 5:\n",
    "        print(\"You won the jackpot!\")\n",
    "        money = money + 100\n",
    "    \n",
    "if money < 0:\n",
    "    print(\"You incurred a debt of \" + str(math.abs(money - original)) + \" dollars!\")\n",
    "else:\n",
    "    print(\"You won \" + str(money - original) + \" dollars!\")\n"
   ]
  },
  {
   "cell_type": "markdown",
   "metadata": {},
   "source": [
    "## HOMEWORK HACK #2"
   ]
  },
  {
   "cell_type": "markdown",
   "metadata": {},
   "source": [
    "> Given initial parameters for a car simulation, including its initial speed, acceleration rate, deceleration rate, maximum speed, and initial distance, write a  program to simulate the car's journey and determine the final speed, distance covered, and time taken before it either covers 1000 meters or slows down to below 5 m/s?"
   ]
  },
  {
   "cell_type": "code",
   "execution_count": 27,
   "metadata": {},
   "outputs": [
    {
     "name": "stdout",
     "output_type": "stream",
     "text": [
      "Final speed: 40.0 meters per second!\n",
      "Distance covered: 1030.0 meters!\n",
      "Time before car covers 1000 meters: 49.25690242507328 seconds!\n"
     ]
    }
   ],
   "source": [
    "import math\n",
    "# Initial parameters\n",
    "speed = 0  # Initial speed\n",
    "acceleration = 2  # Acceleration rate in m/s^2\n",
    "deceleration = 1  # Deceleration rate in m/s^2\n",
    "max_speed = 60  # Maximum speed in m/s\n",
    "distance = 0  # Initial distance\n",
    "time = int(input(\"Enter time: \"))  # Initial time, input of 50\n",
    "\n",
    "print(\"Final speed: \" + str((max_speed - deceleration * (time - (max_speed - speed) / acceleration))) + \" meters per second!\\nDistance covered: \" + str(((speed * ((max_speed - speed) / acceleration)) + (0.5 * acceleration * ((max_speed - speed) / acceleration))) + ((max_speed * (time - ((max_speed - speed) / acceleration))) - (0.5 * deceleration * ((time - ((max_speed - speed) / acceleration)) * (time - ((max_speed - speed) / acceleration)))))) + \" meters!\\n\" + \"Time before car covers 1000 meters: \" + str(((speed * -1) + (math.sqrt((speed * speed) - (2 * acceleration * -1000)))) / (acceleration)) + \" seconds!\") if (distancetomax > 1000) else print(\"Final speed: \" + str((max_speed - deceleration * (time - (max_speed - speed) / acceleration))) + \" meters per second!\\nDistance covered: \" + str(((speed * ((max_speed - speed) / acceleration)) + (0.5 * acceleration * ((max_speed - speed) / acceleration))) + ((max_speed * (time - ((max_speed - speed) / acceleration))) - (0.5 * deceleration * ((time - ((max_speed - speed) / acceleration)) * (time - ((max_speed - speed) / acceleration)))))) + \" meters!\\n\" + \"Time before car covers 1000 meters: \" + str(((max_speed * -1) + (math.sqrt((max_speed * max_speed) - (2 * deceleration * -1 * (-1 * (1000 - ((speed * ((max_speed - speed) / acceleration)) + (0.5 * acceleration * ((max_speed - speed) / acceleration))))))))) / (deceleration * -1) + ((max_speed - speed) / acceleration)) + \" seconds!\") if (1000 < ((speed * ((max_speed - speed) / acceleration)) + (0.5 * acceleration * ((max_speed - speed) / acceleration))) + ((max_speed * (time - ((max_speed - speed) / acceleration))) - (0.5 * deceleration * ((time - ((max_speed - speed) / acceleration)) * (time - ((max_speed - speed) / acceleration)))))) else print(\"Final speed: \" + str((max_speed - deceleration * (time - (max_speed - speed) / acceleration))) + \" meters per second!\\nDistance covered: \" + str(((speed * ((max_speed - speed) / acceleration)) + (0.5 * acceleration * ((max_speed - speed) / acceleration))) + ((max_speed * (time - ((max_speed - speed) / acceleration))) - (0.5 * deceleration * ((time - ((max_speed - speed) / acceleration)) * (time - ((max_speed - speed) / acceleration)))))) + \" meters!\\n\" + \"Time until car slows down to below 5 meters per second: \" + str((5 - max_speed) / (-1 * deceleration) + ((max_speed - speed) / acceleration)) + \" seconds!\")"
   ]
  },
  {
   "cell_type": "code",
   "execution_count": 28,
   "metadata": {},
   "outputs": [
    {
     "name": "stdout",
     "output_type": "stream",
     "text": [
      "Final speed: 50.0 meters per second!\n",
      "Distance covered: 580.0 meters!\n",
      "Time until car slows down to below 5 meters per second: 85.0 seconds!\n"
     ]
    }
   ],
   "source": [
    "import math\n",
    "# Initial parameters\n",
    "speed = 0  # Initial speed\n",
    "acceleration = 2  # Acceleration rate in m/s^2\n",
    "deceleration = 1  # Deceleration rate in m/s^2\n",
    "max_speed = 60  # Maximum speed in m/s\n",
    "distance = 0  # Initial distance\n",
    "time = int(input(\"Enter time: \"))  # Initial time, input of 40\n",
    "\n",
    "print(\"Final speed: \" + str((max_speed - deceleration * (time - (max_speed - speed) / acceleration))) + \" meters per second!\\nDistance covered: \" + str(((speed * ((max_speed - speed) / acceleration)) + (0.5 * acceleration * ((max_speed - speed) / acceleration))) + ((max_speed * (time - ((max_speed - speed) / acceleration))) - (0.5 * deceleration * ((time - ((max_speed - speed) / acceleration)) * (time - ((max_speed - speed) / acceleration)))))) + \" meters!\\n\" + \"Time before car covers 1000 meters: \" + str(((speed * -1) + (math.sqrt((speed * speed) - (2 * acceleration * -1000)))) / (acceleration)) + \" seconds!\") if (distancetomax > 1000) else print(\"Final speed: \" + str((max_speed - deceleration * (time - (max_speed - speed) / acceleration))) + \" meters per second!\\nDistance covered: \" + str(((speed * ((max_speed - speed) / acceleration)) + (0.5 * acceleration * ((max_speed - speed) / acceleration))) + ((max_speed * (time - ((max_speed - speed) / acceleration))) - (0.5 * deceleration * ((time - ((max_speed - speed) / acceleration)) * (time - ((max_speed - speed) / acceleration)))))) + \" meters!\\n\" + \"Time before car covers 1000 meters: \" + str(((max_speed * -1) + (math.sqrt((max_speed * max_speed) - (2 * deceleration * -1 * (-1 * (1000 - ((speed * ((max_speed - speed) / acceleration)) + (0.5 * acceleration * ((max_speed - speed) / acceleration))))))))) / (deceleration * -1) + ((max_speed - speed) / acceleration)) + \" seconds!\") if (1000 < ((speed * ((max_speed - speed) / acceleration)) + (0.5 * acceleration * ((max_speed - speed) / acceleration))) + ((max_speed * (time - ((max_speed - speed) / acceleration))) - (0.5 * deceleration * ((time - ((max_speed - speed) / acceleration)) * (time - ((max_speed - speed) / acceleration)))))) else print(\"Final speed: \" + str((max_speed - deceleration * (time - (max_speed - speed) / acceleration))) + \" meters per second!\\nDistance covered: \" + str(((speed * ((max_speed - speed) / acceleration)) + (0.5 * acceleration * ((max_speed - speed) / acceleration))) + ((max_speed * (time - ((max_speed - speed) / acceleration))) - (0.5 * deceleration * ((time - ((max_speed - speed) / acceleration)) * (time - ((max_speed - speed) / acceleration)))))) + \" meters!\\n\" + \"Time until car slows down to below 5 meters per second: \" + str((5 - max_speed) / (-1 * deceleration) + ((max_speed - speed) / acceleration)) + \" seconds!\")"
   ]
  }
 ],
 "metadata": {
  "kernelspec": {
   "display_name": "Python 3",
   "language": "python",
   "name": "python3"
  },
  "language_info": {
   "codemirror_mode": {
    "name": "ipython",
    "version": 3
   },
   "file_extension": ".py",
   "mimetype": "text/x-python",
   "name": "python",
   "nbconvert_exporter": "python",
   "pygments_lexer": "ipython3",
   "version": "3.10.12"
  },
  "orig_nbformat": 4
 },
 "nbformat": 4,
 "nbformat_minor": 2
}
